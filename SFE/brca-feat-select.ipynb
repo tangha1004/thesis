{
 "cells": [
  {
   "cell_type": "markdown",
   "id": "valuable-litigation",
   "metadata": {
    "papermill": {
     "duration": 0.029308,
     "end_time": "2025-03-01T15:44:31.898374",
     "exception": false,
     "start_time": "2025-03-01T15:44:31.869066",
     "status": "completed"
    },
    "tags": []
   },
   "source": [
    "# 0. Imports"
   ]
  },
  {
   "cell_type": "code",
   "execution_count": 1,
   "id": "frozen-serial",
   "metadata": {
    "execution": {
     "iopub.execute_input": "2025-03-01T15:44:31.956153Z",
     "iopub.status.busy": "2025-03-01T15:44:31.955625Z",
     "iopub.status.idle": "2025-03-01T15:44:31.958244Z",
     "shell.execute_reply": "2025-03-01T15:44:31.957667Z",
     "shell.execute_reply.started": "2024-12-04T15:09:12.727262Z"
    },
    "papermill": {
     "duration": 0.033559,
     "end_time": "2025-03-01T15:44:31.958392",
     "exception": false,
     "start_time": "2025-03-01T15:44:31.924833",
     "status": "completed"
    },
    "tags": []
   },
   "outputs": [],
   "source": [
    "#The code of \"SFE: A Simple, Fast and Efficient Feature Selection Algorithm for High-Dimensional Data\"\n",
    "#IEEE Transactions on Evolutionary Computation: doi: https://doi.org/10.1109/TEVC.2023.3238420\n",
    "#Autor:Behrouz Ahadzadeh\n",
    "#Email: b.ahadzade@yahoo.com"
   ]
  },
  {
   "cell_type": "code",
   "execution_count": 2,
   "id": "forward-queue",
   "metadata": {
    "execution": {
     "iopub.execute_input": "2025-03-01T15:44:32.020163Z",
     "iopub.status.busy": "2025-03-01T15:44:32.019112Z",
     "iopub.status.idle": "2025-03-01T15:44:32.021449Z",
     "shell.execute_reply": "2025-03-01T15:44:32.021963Z",
     "shell.execute_reply.started": "2024-12-04T15:09:12.736794Z"
    },
    "papermill": {
     "duration": 0.037378,
     "end_time": "2025-03-01T15:44:32.022127",
     "exception": false,
     "start_time": "2025-03-01T15:44:31.984749",
     "status": "completed"
    },
    "tags": []
   },
   "outputs": [],
   "source": [
    "dataset_name = 'tcga-brca-rs42-gexcna-2000x2000-minmaxscaler-xai'\n",
    "deepssc_model_name = 'new-ssc'\n",
    "COHORT = 'TCGA_BRCA_RS42_GExCNA_2000x2000_MinMaxScaler'"
   ]
  },
  {
   "cell_type": "markdown",
   "id": "instrumental-affair",
   "metadata": {
    "papermill": {
     "duration": 0.037049,
     "end_time": "2025-03-01T15:44:32.085679",
     "exception": false,
     "start_time": "2025-03-01T15:44:32.048630",
     "status": "completed"
    },
    "tags": []
   },
   "source": [
    "## Phase 1"
   ]
  },
  {
   "cell_type": "code",
   "execution_count": 3,
   "id": "postal-dallas",
   "metadata": {
    "execution": {
     "iopub.execute_input": "2025-03-01T15:44:32.148778Z",
     "iopub.status.busy": "2025-03-01T15:44:32.147969Z",
     "iopub.status.idle": "2025-03-01T15:44:41.214310Z",
     "shell.execute_reply": "2025-03-01T15:44:41.213700Z",
     "shell.execute_reply.started": "2024-12-04T15:09:12.748871Z"
    },
    "papermill": {
     "duration": 9.10032,
     "end_time": "2025-03-01T15:44:41.214436",
     "exception": false,
     "start_time": "2025-03-01T15:44:32.114116",
     "status": "completed"
    },
    "tags": []
   },
   "outputs": [],
   "source": [
    "import scipy.stats as stats\n",
    "import warnings\n",
    "warnings.filterwarnings(\"ignore\")\n",
    "import os\n",
    "import numpy as np\n",
    "from numpy.random import rand, seed, randint\n",
    "import pandas as pd\n",
    "from IPython.display import display, HTML\n",
    "!pip install watermark --quiet\n",
    "import random\n",
    "import json\n",
    "import matplotlib.pyplot as plt\n",
    "import seaborn as sns\n",
    "from sklearn.metrics import (\n",
    "    classification_report,\n",
    "    confusion_matrix,\n",
    "    ConfusionMatrixDisplay,\n",
    "    accuracy_score,\n",
    "    f1_score,\n",
    ")\n",
    "from sklearn.neighbors import KNeighborsClassifier\n",
    "from sklearn.model_selection import cross_val_score\n",
    "import math"
   ]
  },
  {
   "cell_type": "markdown",
   "id": "disciplinary-township",
   "metadata": {
    "papermill": {
     "duration": 0.025753,
     "end_time": "2025-03-01T15:44:41.267309",
     "exception": false,
     "start_time": "2025-03-01T15:44:41.241556",
     "status": "completed"
    },
    "tags": []
   },
   "source": [
    "## Phase 2"
   ]
  },
  {
   "cell_type": "code",
   "execution_count": 4,
   "id": "discrete-aquatic",
   "metadata": {
    "execution": {
     "iopub.execute_input": "2025-03-01T15:44:41.325622Z",
     "iopub.status.busy": "2025-03-01T15:44:41.324999Z",
     "iopub.status.idle": "2025-03-01T15:44:49.224968Z",
     "shell.execute_reply": "2025-03-01T15:44:49.224433Z",
     "shell.execute_reply.started": "2024-12-04T15:09:22.148191Z"
    },
    "papermill": {
     "duration": 7.931413,
     "end_time": "2025-03-01T15:44:49.225106",
     "exception": false,
     "start_time": "2025-03-01T15:44:41.293693",
     "status": "completed"
    },
    "tags": []
   },
   "outputs": [],
   "source": [
    "from scipy.stats import mode\n",
    "from datetime import datetime\n",
    "\n",
    "!pip install captum --quiet\n",
    "from captum.attr import IntegratedGradients"
   ]
  },
  {
   "cell_type": "markdown",
   "id": "domestic-treasure",
   "metadata": {
    "papermill": {
     "duration": 0.025754,
     "end_time": "2025-03-01T15:44:49.276979",
     "exception": false,
     "start_time": "2025-03-01T15:44:49.251225",
     "status": "completed"
    },
    "tags": []
   },
   "source": [
    "## Phase 3"
   ]
  },
  {
   "cell_type": "code",
   "execution_count": 5,
   "id": "miniature-architecture",
   "metadata": {
    "execution": {
     "iopub.execute_input": "2025-03-01T15:44:49.335437Z",
     "iopub.status.busy": "2025-03-01T15:44:49.334718Z",
     "iopub.status.idle": "2025-03-01T15:44:49.403212Z",
     "shell.execute_reply": "2025-03-01T15:44:49.402599Z",
     "shell.execute_reply.started": "2024-12-04T15:09:30.553215Z"
    },
    "papermill": {
     "duration": 0.099971,
     "end_time": "2025-03-01T15:44:49.403343",
     "exception": false,
     "start_time": "2025-03-01T15:44:49.303372",
     "status": "completed"
    },
    "tags": []
   },
   "outputs": [],
   "source": [
    "import sklearn\n",
    "from sklearn.metrics import roc_auc_score\n",
    "from sklearn.model_selection import GridSearchCV\n",
    "from sklearn.model_selection import RepeatedStratifiedKFold\n",
    "from sklearn.pipeline import Pipeline\n",
    "from sklearn.preprocessing import StandardScaler, MinMaxScaler\n",
    "from sklearn.ensemble import RandomForestClassifier\n",
    "from sklearn.linear_model import LogisticRegression\n",
    "from sklearn.svm import SVC\n",
    "\n",
    "import copy\n",
    "from sklearn.compose import ColumnTransformer \n",
    "from IPython.display import Markdown\n",
    "\n",
    "import warnings\n",
    "from sklearn.exceptions import ConvergenceWarning"
   ]
  },
  {
   "cell_type": "markdown",
   "id": "dental-productivity",
   "metadata": {
    "papermill": {
     "duration": 0.025873,
     "end_time": "2025-03-01T15:44:49.456705",
     "exception": false,
     "start_time": "2025-03-01T15:44:49.430832",
     "status": "completed"
    },
    "tags": []
   },
   "source": [
    "# 1.0. Hyperparameters"
   ]
  },
  {
   "cell_type": "code",
   "execution_count": 6,
   "id": "optional-isolation",
   "metadata": {
    "execution": {
     "iopub.execute_input": "2025-03-01T15:44:49.514954Z",
     "iopub.status.busy": "2025-03-01T15:44:49.514189Z",
     "iopub.status.idle": "2025-03-01T15:44:49.518136Z",
     "shell.execute_reply": "2025-03-01T15:44:49.517683Z",
     "shell.execute_reply.started": "2024-12-04T15:09:30.639454Z"
    },
    "papermill": {
     "duration": 0.035449,
     "end_time": "2025-03-01T15:44:49.518273",
     "exception": false,
     "start_time": "2025-03-01T15:44:49.482824",
     "status": "completed"
    },
    "tags": []
   },
   "outputs": [
    {
     "name": "stdout",
     "output_type": "stream",
     "text": [
      "Random seed set as 42\n"
     ]
    }
   ],
   "source": [
    "def set_seed(seed: int = 42) -> None:\n",
    "    np.random.seed(seed)\n",
    "    random.seed(seed)\n",
    "    os.environ[\"PYTHONHASHSEED\"] = str(seed)\n",
    "    print(f\"Random seed set as {seed}\")\n",
    "\n",
    "rseed = 42\n",
    "set_seed(rseed)"
   ]
  },
  {
   "cell_type": "code",
   "execution_count": 7,
   "id": "rising-memorabilia",
   "metadata": {
    "execution": {
     "iopub.execute_input": "2025-03-01T15:44:49.578276Z",
     "iopub.status.busy": "2025-03-01T15:44:49.577652Z",
     "iopub.status.idle": "2025-03-01T15:44:49.580714Z",
     "shell.execute_reply": "2025-03-01T15:44:49.580105Z",
     "shell.execute_reply.started": "2024-12-04T15:09:30.647787Z"
    },
    "papermill": {
     "duration": 0.034617,
     "end_time": "2025-03-01T15:44:49.580848",
     "exception": false,
     "start_time": "2025-03-01T15:44:49.546231",
     "status": "completed"
    },
    "tags": []
   },
   "outputs": [],
   "source": [
    "postfix_tr = '_tr'\n",
    "postfix_te = '_val'\n",
    "\n",
    "data_folder = f'/kaggle/input/{dataset_name}/{COHORT}'\n",
    "main_deepssc = f'/kaggle/input/{deepssc_model_name}/main.py'\n",
    "model_folder = '/kaggle/working/models'"
   ]
  },
  {
   "cell_type": "code",
   "execution_count": 8,
   "id": "upper-calcium",
   "metadata": {
    "execution": {
     "iopub.execute_input": "2025-03-01T15:44:49.638274Z",
     "iopub.status.busy": "2025-03-01T15:44:49.637306Z",
     "iopub.status.idle": "2025-03-01T15:44:49.639687Z",
     "shell.execute_reply": "2025-03-01T15:44:49.640131Z"
    },
    "papermill": {
     "duration": 0.033089,
     "end_time": "2025-03-01T15:44:49.640279",
     "exception": false,
     "start_time": "2025-03-01T15:44:49.607190",
     "status": "completed"
    },
    "tags": []
   },
   "outputs": [],
   "source": [
    "num_models = 5"
   ]
  },
  {
   "cell_type": "code",
   "execution_count": 9,
   "id": "national-clarity",
   "metadata": {
    "execution": {
     "iopub.execute_input": "2025-03-01T15:44:49.697823Z",
     "iopub.status.busy": "2025-03-01T15:44:49.697211Z",
     "iopub.status.idle": "2025-03-01T15:44:49.713452Z",
     "shell.execute_reply": "2025-03-01T15:44:49.712960Z",
     "shell.execute_reply.started": "2024-12-04T15:09:30.663158Z"
    },
    "papermill": {
     "duration": 0.046964,
     "end_time": "2025-03-01T15:44:49.713646",
     "exception": false,
     "start_time": "2025-03-01T15:44:49.666682",
     "status": "completed"
    },
    "tags": []
   },
   "outputs": [],
   "source": [
    "# Subtypes\n",
    "loc_file_json_id_omic = data_folder + '/1/dct_index_subtype.json'\n",
    "with open(loc_file_json_id_omic) as file_json_id_omic:\n",
    "    dct_LABEL_MAPPING_NAME = json.load(file_json_id_omic)\n",
    "    # dct_LABEL_MAPPING_NAME = {int(k): v for k,v in dct_LABEL_MAPPING_NAME.items()} # convert str number key to int\n",
    "LABEL_MAPPING_NAME = dct_LABEL_MAPPING_NAME.values()\n",
    "\n",
    "num_subtypes = len(LABEL_MAPPING_NAME)\n",
    "view_list = [1, 2]"
   ]
  },
  {
   "cell_type": "code",
   "execution_count": 10,
   "id": "modular-diagnosis",
   "metadata": {
    "execution": {
     "iopub.execute_input": "2025-03-01T15:44:49.778665Z",
     "iopub.status.busy": "2025-03-01T15:44:49.777763Z",
     "iopub.status.idle": "2025-03-01T15:44:54.858010Z",
     "shell.execute_reply": "2025-03-01T15:44:54.857337Z",
     "shell.execute_reply.started": "2024-12-04T15:09:30.687891Z"
    },
    "papermill": {
     "duration": 5.117829,
     "end_time": "2025-03-01T15:44:54.858155",
     "exception": false,
     "start_time": "2025-03-01T15:44:49.740326",
     "status": "completed"
    },
    "tags": []
   },
   "outputs": [
    {
     "name": "stdout",
     "output_type": "stream",
     "text": [
      "Train set\n",
      " Basal  Her2  LumA  LumB  Normal\n",
      "    85    43   262   119      15 \n",
      "\n",
      "Test set\n",
      " Basal  Her2  LumA  LumB  Normal\n",
      "    27    13    82    38       4 \n",
      "\n",
      "Validation set\n",
      " Basal  Her2  LumA  LumB  Normal\n",
      "    22    11    65    30       3 \n",
      "\n",
      "\n",
      "Count Samples: \n",
      "\n",
      "No unlabel data found!\n",
      " Train set  Test set  Validation set\n",
      "       524       164             131 \n",
      "\n",
      "No unlabel data found!\n",
      " Train set  Test set  Validation set\n",
      "       524       164             131 \n",
      "\n"
     ]
    }
   ],
   "source": [
    "# Check data size\n",
    "for fold_id in [3]:\n",
    "#     print(f'idx data: {fold_id}')\n",
    "    tmp = list(LABEL_MAPPING_NAME)\n",
    "    label_files = ['tr', 'te', 'val']\n",
    "    dict = {\n",
    "        'tr': 'Train set',\n",
    "        'te': 'Test set',\n",
    "        'val': 'Validation set'\n",
    "    }\n",
    "    \n",
    "    for label_file in label_files:\n",
    "        df = pd.read_csv(f'{data_folder}/{fold_id}/labels_{label_file}.csv', header=None, names=['featname'])\n",
    "        feature_counts = df['featname'].value_counts().sort_index()\n",
    "        \n",
    "        print(f'{dict[label_file]}')\n",
    "        \n",
    "        res = {}\n",
    "        for feature, count in feature_counts.items():\n",
    "            res[tmp[feature]] = count\n",
    "\n",
    "        print(pd.DataFrame(res, index=[0]).to_string(index=False), '\\n')\n",
    "    \n",
    "    print('\\nCount Samples: \\n')\n",
    "    for idx in view_list:\n",
    "        res = {}\n",
    "        for label_file in label_files:\n",
    "            df = pd.read_csv(f'{data_folder}/{fold_id}/{idx}_{label_file}.csv', header=None, names=['featname'])\n",
    "            res[dict[label_file]] = df.shape[0]\n",
    "        \n",
    "        try:\n",
    "            unlabeled_df = pd.read_csv(f'{data_folder}/{fold_id}/{idx}_unlabeled.csv', header=None, names=['featname'])\n",
    "            res['Unlabeled Set'] = unlabeled_df.shape[0]\n",
    "        except:\n",
    "            print(f'No unlabel data found!')\n",
    "            \n",
    "        print(pd.DataFrame(res, index=[0]).to_string(index=False), '\\n')"
   ]
  },
  {
   "cell_type": "markdown",
   "id": "naked-aggregate",
   "metadata": {
    "papermill": {
     "duration": 0.028551,
     "end_time": "2025-03-01T15:44:54.914195",
     "exception": false,
     "start_time": "2025-03-01T15:44:54.885644",
     "status": "completed"
    },
    "tags": []
   },
   "source": [
    "# 1.1. TRAINING"
   ]
  },
  {
   "cell_type": "code",
   "execution_count": 11,
   "id": "institutional-project",
   "metadata": {
    "execution": {
     "iopub.execute_input": "2025-03-01T15:44:54.979288Z",
     "iopub.status.busy": "2025-03-01T15:44:54.978279Z",
     "iopub.status.idle": "2025-03-01T15:44:54.981257Z",
     "shell.execute_reply": "2025-03-01T15:44:54.980682Z",
     "shell.execute_reply.started": "2024-12-04T15:09:39.070326Z"
    },
    "papermill": {
     "duration": 0.039821,
     "end_time": "2025-03-01T15:44:54.981386",
     "exception": false,
     "start_time": "2025-03-01T15:44:54.941565",
     "status": "completed"
    },
    "tags": []
   },
   "outputs": [],
   "source": [
    "from sklearn import svm\n",
    "def fit_eval(xtrain, ytrain, xtest, ytest, kk):\n",
    "    if len(kk) == 0:\n",
    "        kk = randint(1, np.size(xtrain, 1))\n",
    "    # print(sf)\n",
    "    \n",
    "    sf = [i for i in range(np.size(xtrain, 1)) if kk[i] == 1]\n",
    "    pos = np.transpose(sf)\n",
    "\n",
    "    model = svm.SVC()\n",
    "    Xtrain = xtrain[:, pos]\n",
    "    Xtest = xtest[:, pos]\n",
    "    \n",
    "    model.fit(Xtrain, ytrain)\n",
    "    ypred = model.predict(Xtest)\n",
    "\n",
    "    return f1_score(ypred, ytest, average='macro') * 100\n",
    "\n",
    "def fit_all(xtrain, ytrain, xtest, ytest, kk):\n",
    "    res = []\n",
    "    for i in range(len(xtrain)):\n",
    "        res.append(fit_eval(xtrain[i], ytrain[i], xtest[i], ytest[i], kk))\n",
    "\n",
    "    return np.array(res).mean()\n",
    "\n",
    "def fit_all_print(xtrain, ytrain, xtest, ytest, kk):\n",
    "    res = []\n",
    "    for i in range(len(xtrain)):\n",
    "        res.append(fit_eval(xtrain[i], ytrain[i], xtest[i], ytest[i], kk))\n",
    "    print(res)\n",
    "\n",
    "    print(np.array(res).mean())"
   ]
  },
  {
   "cell_type": "code",
   "execution_count": 12,
   "id": "caroline-washer",
   "metadata": {
    "execution": {
     "iopub.execute_input": "2025-03-01T15:44:55.041626Z",
     "iopub.status.busy": "2025-03-01T15:44:55.040979Z",
     "iopub.status.idle": "2025-03-01T15:44:55.044635Z",
     "shell.execute_reply": "2025-03-01T15:44:55.044043Z",
     "shell.execute_reply.started": "2024-12-04T15:09:39.081774Z"
    },
    "papermill": {
     "duration": 0.036195,
     "end_time": "2025-03-01T15:44:55.044771",
     "exception": false,
     "start_time": "2025-03-01T15:44:55.008576",
     "status": "completed"
    },
    "tags": []
   },
   "outputs": [],
   "source": [
    "# Hàm cập nhật vận tốc và vị trí của các particle\n",
    "def update_velocity_position(x, v, pbest, gbest, w=0.5, c1=1.5, c2=1.5):\n",
    "    r1 = np.random.rand()\n",
    "    r2 = np.random.rand()\n",
    "    v_new = w * v + c1 * r1 * (pbest - x) + c2 * r2 * (gbest - x)\n",
    "    x_new = np.where(np.random.rand(len(x)) < sigmoid(v_new), 1, 0)\n",
    "    return x_new, v_new"
   ]
  },
  {
   "cell_type": "code",
   "execution_count": 13,
   "id": "adverse-linux",
   "metadata": {
    "execution": {
     "iopub.execute_input": "2025-03-01T15:44:55.113128Z",
     "iopub.status.busy": "2025-03-01T15:44:55.107910Z",
     "iopub.status.idle": "2025-03-01T15:44:55.122938Z",
     "shell.execute_reply": "2025-03-01T15:44:55.123367Z",
     "shell.execute_reply.started": "2024-12-04T15:51:44.787773Z"
    },
    "papermill": {
     "duration": 0.051507,
     "end_time": "2025-03-01T15:44:55.123557",
     "exception": false,
     "start_time": "2025-03-01T15:44:55.072050",
     "status": "completed"
    },
    "tags": []
   },
   "outputs": [],
   "source": [
    "def PSO1(nParticles, Max_FEs, EFs, Run, Xtrain, ytrain, Xval, yval, Xtest, ytest, Cost_tr, Cost_va, Cost_te, FN):\n",
    "    # Hàm sigmoid\n",
    "    def sigmoid(x):\n",
    "        return 1 / (1 + np.exp(-x))\n",
    "\n",
    "    E = EFs\n",
    "    nVar = Xtrain[0].shape[1]  # Number of Decision Variables\n",
    "    VarSize = (1, nVar)    # Size of Decision Variables Matrix\n",
    "\n",
    "    # PSO Parameters\n",
    "    VarMin = -3            # Lower Bound of Variables\n",
    "    VarMax = 3             # Upper Bound of Variables\n",
    "    lu_v = 3 * np.array([-np.ones(nVar), np.ones(nVar)])\n",
    "\n",
    "    nPop = nParticles              # Population Size (Swarm Size)\n",
    "    w = 0.7\n",
    "    c1 = 1.5              # Personal Learning Coefficient\n",
    "    c2 = 1.5                # Global Learning Coefficient\n",
    "\n",
    "    # Particle Initialization\n",
    "    class Particle:\n",
    "        def __init__(self):\n",
    "            self.Position = None\n",
    "            self.Cost = None\n",
    "            self.Velocity = None\n",
    "            self.Best = {'Position': None, 'Cost': None}\n",
    "\n",
    "    particle = [Particle() for _ in range(nPop)]\n",
    "    GlobalBest = {'Position': None, 'Cost': 0}\n",
    "\n",
    "    for i in range(nPop):\n",
    "        particle[i].Velocity = np.random.uniform(VarMin, VarMax, VarSize)\n",
    "\n",
    "    for i in range(nVar):\n",
    "        particle[0].Velocity[0, i] = 3\n",
    "        particle[0].Position = np.ones(VarSize)\n",
    "    particle[0].Cost = fit_all(Xtrain, ytrain, Xval, yval, particle[0].Position[0])\n",
    "\n",
    "    for i in range(1, nPop):\n",
    "        SS = sigmoid(particle[i].Velocity)\n",
    "        R = np.random.rand(*VarSize)\n",
    "        particle[i].Position = (R < SS).astype(int)\n",
    "        particle[i].Cost = fit_all(Xtrain, ytrain, Xval, yval, particle[i].Position[0])\n",
    "\n",
    "        # Update Personal Best\n",
    "        particle[i].Best['Position'] = particle[i].Position\n",
    "        particle[i].Best['Cost'] = particle[i].Cost\n",
    "\n",
    "        # Update Global Best\n",
    "        if particle[i].Best['Cost'] > GlobalBest['Cost']:\n",
    "            GlobalBest = particle[i].Best\n",
    "\n",
    "    particle[0].Best['Position'] = particle[0].Position\n",
    "    particle[0].Best['Cost'] = particle[0].Cost\n",
    "    \n",
    "    Fit_tr = fit_all(Xtrain, ytrain, Xtrain, ytrain, particle[0].Position[0])\n",
    "    GlobalBest = particle[0].Best\n",
    "    Fit_te = fit_all(Xtrain, ytrain, Xtest, ytest, particle[0].Position[0])\n",
    "\n",
    "    # PSO Main Loop\n",
    "    while EFs <= Max_FEs:\n",
    "        EFs += nPop\n",
    "\n",
    "        for i in range(nPop):\n",
    "            # Update Velocity\n",
    "            particle[i].Velocity = (w * particle[i].Velocity +\n",
    "                                    c1 * np.random.rand(*VarSize) * (particle[i].Best['Position'] - particle[i].Position) +\n",
    "                                    c2 * np.random.rand(*VarSize) * (GlobalBest['Position'] - particle[i].Position))\n",
    "\n",
    "            V_u = lu_v[1, :]\n",
    "            particle[i].Velocity = np.clip(particle[i].Velocity, -V_u, V_u)\n",
    "\n",
    "            # Update Position\n",
    "            SS = sigmoid(particle[i].Velocity)\n",
    "            R = np.random.rand(*VarSize)\n",
    "            particle[i].Position = (R < SS).astype(int)\n",
    "\n",
    "            # Evaluation\n",
    "            particle[i].Cost = fit_all(Xtrain, ytrain, Xval, yval, particle[i].Position[0])\n",
    "\n",
    "            # Update Personal Best\n",
    "            if particle[i].Cost > particle[i].Best['Cost']:\n",
    "                particle[i].Best['Position'] = particle[i].Position\n",
    "                particle[i].Best['Cost'] = particle[i].Cost\n",
    "\n",
    "                # Update Global Best\n",
    "                if particle[i].Best['Cost'] > GlobalBest['Cost']:\n",
    "                    Fit_tr = fit_all(Xtrain, ytrain, Xtrain, ytrain, particle[i].Position[0])\n",
    "                    GlobalBest = particle[i].Best\n",
    "                    Fit_te = fit_all(Xtrain, ytrain, Xtest, ytest, particle[i].Position[0])\n",
    "            \n",
    "            if E >= Max_FEs:\n",
    "                break\n",
    "            Cost_tr[E, Run - 1] = Fit_tr\n",
    "            Cost_va[E, Run - 1] = GlobalBest['Cost']\n",
    "            Cost_te[E, Run - 1] = Fit_te\n",
    "            E += 1\n",
    "\n",
    "        # Cost_val[E:E + nPop, Run - 1] = GlobalBest['Cost']\n",
    "\n",
    "        print(f\"SFE-PSO : Function Evaluation: {EFs} F1-macro = {GlobalBest['Cost']} \"\n",
    "              f\"Number of Selected Features = {np.sum(GlobalBest['Position'])} Run: {Run}\")\n",
    "\n",
    "        # E += nPop\n",
    "\n",
    "    FN[Run - 1, 0] = np.sum(GlobalBest['Position'])\n",
    "    return Cost_tr, Cost_va, Cost_te, FN, GlobalBest['Position'][0]\n"
   ]
  },
  {
   "cell_type": "code",
   "execution_count": 14,
   "id": "persistent-martial",
   "metadata": {
    "execution": {
     "iopub.execute_input": "2025-03-01T15:44:55.188193Z",
     "iopub.status.busy": "2025-03-01T15:44:55.187473Z",
     "iopub.status.idle": "2025-03-01T15:45:03.876627Z",
     "shell.execute_reply": "2025-03-01T15:45:03.875989Z",
     "shell.execute_reply.started": "2024-12-04T15:33:21.600037Z"
    },
    "papermill": {
     "duration": 8.725914,
     "end_time": "2025-03-01T15:45:03.876778",
     "exception": false,
     "start_time": "2025-03-01T15:44:55.150864",
     "status": "completed"
    },
    "tags": []
   },
   "outputs": [
    {
     "name": "stdout",
     "output_type": "stream",
     "text": [
      "(524, 4000)\n",
      "(131, 4000)\n",
      "(164, 4000)\n",
      "(524, 4000)\n",
      "(131, 4000)\n",
      "(164, 4000)\n",
      "(524, 4000)\n",
      "(131, 4000)\n",
      "(164, 4000)\n",
      "(524, 4000)\n",
      "(131, 4000)\n",
      "(164, 4000)\n",
      "(524, 4000)\n",
      "(131, 4000)\n",
      "(164, 4000)\n"
     ]
    }
   ],
   "source": [
    "def get_data(fold_id, file : str):\n",
    "    return pd.read_csv(f'{data_folder}/{fold_id}/{file}.csv', delimiter=\",\", header=None)\n",
    "\n",
    "feat1 = get_data(1, '1_featname')\n",
    "feat2 = get_data(1, '2_featname')\n",
    "feat = np.concatenate((feat1, feat2), axis=0)\n",
    "\n",
    "Xtrain = []\n",
    "Xval = []\n",
    "Xtest = []\n",
    "\n",
    "ytrain = []\n",
    "yval = []\n",
    "ytest = []\n",
    "\n",
    "for i in range(1, num_models+1):\n",
    "    inp = np.concatenate((get_data(i, '1_tr'), get_data(i, '2_tr')), axis=1)\n",
    "    print(inp.shape)\n",
    "    Input = np.asarray(inp)\n",
    "    Input = stats.zscore(Input)\n",
    "\n",
    "    tar = get_data(i, 'labels_tr')\n",
    "    Target = np.asarray(tar)\n",
    "           \n",
    "    Xtrain.append(Input)\n",
    "    ytrain.append(Target)\n",
    "           \n",
    "    inp = np.concatenate((get_data(i, '1_val'), get_data(i, '2_val')), axis=1)\n",
    "    print(inp.shape)\n",
    "    Input = np.asarray(inp)\n",
    "    Input = stats.zscore(Input)\n",
    "\n",
    "    tar = get_data(i, 'labels_val')\n",
    "    Target = np.asarray(tar)\n",
    "           \n",
    "    Xval.append(Input)\n",
    "    yval.append(Target)\n",
    "           \n",
    "    inp = np.concatenate((get_data(i, '1_te'), get_data(i, '2_te')), axis=1)\n",
    "    print(inp.shape)\n",
    "    Input = np.asarray(inp)\n",
    "    Input = stats.zscore(Input)\n",
    "\n",
    "    tar = get_data(i, 'labels_te')\n",
    "    Target = np.asarray(tar)\n",
    "           \n",
    "    Xtest.append(Input)\n",
    "    ytest.append(Target)"
   ]
  },
  {
   "cell_type": "code",
   "execution_count": 15,
   "id": "compressed-colorado",
   "metadata": {
    "execution": {
     "iopub.execute_input": "2025-03-01T15:45:03.955465Z",
     "iopub.status.busy": "2025-03-01T15:45:03.952165Z",
     "iopub.status.idle": "2025-03-01T17:45:53.979908Z",
     "shell.execute_reply": "2025-03-01T17:45:53.980363Z",
     "shell.execute_reply.started": "2024-12-04T16:03:35.083386Z"
    },
    "papermill": {
     "duration": 7250.073394,
     "end_time": "2025-03-01T17:45:53.980575",
     "exception": false,
     "start_time": "2025-03-01T15:45:03.907181",
     "status": "completed"
    },
    "tags": []
   },
   "outputs": [
    {
     "name": "stdout",
     "output_type": "stream",
     "text": [
      "SFE - Iteration = 100 :   F1-Score = 77.72322698019869 :   Number of Selected Features= 400 :  Run= 1\n",
      "SFE - Iteration = 200 :   F1-Score = 77.72322698019869 :   Number of Selected Features= 400 :  Run= 1\n",
      "SFE - Iteration = 300 :   F1-Score = 77.72322698019869 :   Number of Selected Features= 400 :  Run= 1\n",
      "SFE - Iteration = 400 :   F1-Score = 77.72322698019869 :   Number of Selected Features= 400 :  Run= 1\n",
      "SFE - Iteration = 500 :   F1-Score = 78.14760571500638 :   Number of Selected Features= 400 :  Run= 1\n",
      "SFE - Iteration = 600 :   F1-Score = 78.57768980819029 :   Number of Selected Features= 400 :  Run= 1\n",
      "SFE - Iteration = 700 :   F1-Score = 78.57768980819029 :   Number of Selected Features= 400 :  Run= 1\n",
      "SFE - Iteration = 800 :   F1-Score = 78.57768980819029 :   Number of Selected Features= 400 :  Run= 1\n",
      "SFE - Iteration = 900 :   F1-Score = 79.12362296138792 :   Number of Selected Features= 400 :  Run= 1\n",
      "SFE - Iteration = 1000 :   F1-Score = 80.86151141216574 :   Number of Selected Features= 400 :  Run= 1\n",
      "SFE - Iteration = 100 :   F1-Score = 77.76481328155833 :   Number of Selected Features= 400 :  Run= 2\n",
      "SFE - Iteration = 200 :   F1-Score = 77.76481328155833 :   Number of Selected Features= 400 :  Run= 2\n",
      "SFE - Iteration = 300 :   F1-Score = 79.08027102704709 :   Number of Selected Features= 400 :  Run= 2\n",
      "SFE - Iteration = 400 :   F1-Score = 79.08027102704709 :   Number of Selected Features= 400 :  Run= 2\n",
      "SFE - Iteration = 500 :   F1-Score = 79.08027102704709 :   Number of Selected Features= 400 :  Run= 2\n",
      "SFE - Iteration = 600 :   F1-Score = 79.08027102704709 :   Number of Selected Features= 400 :  Run= 2\n",
      "SFE - Iteration = 700 :   F1-Score = 79.08027102704709 :   Number of Selected Features= 400 :  Run= 2\n",
      "SFE - Iteration = 800 :   F1-Score = 79.08027102704709 :   Number of Selected Features= 400 :  Run= 2\n",
      "SFE - Iteration = 900 :   F1-Score = 79.08027102704709 :   Number of Selected Features= 400 :  Run= 2\n",
      "SFE - Iteration = 1000 :   F1-Score = 79.08027102704709 :   Number of Selected Features= 400 :  Run= 2\n",
      "SFE - Iteration = 100 :   F1-Score = 77.14950184201902 :   Number of Selected Features= 411 :  Run= 3\n",
      "SFE - Iteration = 200 :   F1-Score = 78.38135201975544 :   Number of Selected Features= 400 :  Run= 3\n",
      "SFE - Iteration = 300 :   F1-Score = 78.38135201975544 :   Number of Selected Features= 400 :  Run= 3\n",
      "SFE - Iteration = 400 :   F1-Score = 78.38135201975544 :   Number of Selected Features= 400 :  Run= 3\n",
      "SFE - Iteration = 500 :   F1-Score = 78.38135201975544 :   Number of Selected Features= 400 :  Run= 3\n",
      "SFE - Iteration = 600 :   F1-Score = 78.38135201975544 :   Number of Selected Features= 400 :  Run= 3\n",
      "SFE - Iteration = 700 :   F1-Score = 78.38135201975544 :   Number of Selected Features= 400 :  Run= 3\n",
      "SFE - Iteration = 800 :   F1-Score = 78.38135201975544 :   Number of Selected Features= 400 :  Run= 3\n",
      "SFE - Iteration = 900 :   F1-Score = 79.21543638645308 :   Number of Selected Features= 400 :  Run= 3\n",
      "SFE - Iteration = 1000 :   F1-Score = 79.23591369258193 :   Number of Selected Features= 400 :  Run= 3\n",
      "SFE - Iteration = 100 :   F1-Score = 76.50546397870096 :   Number of Selected Features= 400 :  Run= 4\n",
      "SFE - Iteration = 200 :   F1-Score = 77.2170489583979 :   Number of Selected Features= 400 :  Run= 4\n",
      "SFE - Iteration = 300 :   F1-Score = 77.2170489583979 :   Number of Selected Features= 400 :  Run= 4\n",
      "SFE - Iteration = 400 :   F1-Score = 77.2170489583979 :   Number of Selected Features= 400 :  Run= 4\n",
      "SFE - Iteration = 500 :   F1-Score = 77.42772714954776 :   Number of Selected Features= 400 :  Run= 4\n",
      "SFE - Iteration = 600 :   F1-Score = 77.42772714954776 :   Number of Selected Features= 400 :  Run= 4\n",
      "SFE - Iteration = 700 :   F1-Score = 77.42772714954776 :   Number of Selected Features= 400 :  Run= 4\n",
      "SFE - Iteration = 800 :   F1-Score = 77.42772714954776 :   Number of Selected Features= 400 :  Run= 4\n",
      "SFE - Iteration = 900 :   F1-Score = 78.91680089805337 :   Number of Selected Features= 400 :  Run= 4\n",
      "SFE - Iteration = 1000 :   F1-Score = 79.52297796058181 :   Number of Selected Features= 400 :  Run= 4\n",
      "SFE - Iteration = 100 :   F1-Score = 74.54796588661868 :   Number of Selected Features= 400 :  Run= 5\n",
      "SFE - Iteration = 200 :   F1-Score = 76.85017430674418 :   Number of Selected Features= 400 :  Run= 5\n",
      "SFE - Iteration = 300 :   F1-Score = 77.0658418551762 :   Number of Selected Features= 400 :  Run= 5\n",
      "SFE - Iteration = 400 :   F1-Score = 77.96020563661452 :   Number of Selected Features= 400 :  Run= 5\n",
      "SFE - Iteration = 500 :   F1-Score = 77.96020563661452 :   Number of Selected Features= 400 :  Run= 5\n",
      "SFE - Iteration = 600 :   F1-Score = 77.96020563661452 :   Number of Selected Features= 400 :  Run= 5\n",
      "SFE - Iteration = 700 :   F1-Score = 77.96020563661452 :   Number of Selected Features= 400 :  Run= 5\n",
      "SFE - Iteration = 800 :   F1-Score = 78.5132640558007 :   Number of Selected Features= 400 :  Run= 5\n",
      "SFE - Iteration = 900 :   F1-Score = 79.04365921773999 :   Number of Selected Features= 400 :  Run= 5\n",
      "SFE - Iteration = 1000 :   F1-Score = 80.1238713093906 :   Number of Selected Features= 400 :  Run= 5\n",
      "SFE - Iteration = 100 :   F1-Score = 75.55861452913166 :   Number of Selected Features= 400 :  Run= 6\n",
      "SFE - Iteration = 200 :   F1-Score = 77.90476352378077 :   Number of Selected Features= 400 :  Run= 6\n",
      "SFE - Iteration = 300 :   F1-Score = 77.90476352378077 :   Number of Selected Features= 400 :  Run= 6\n",
      "SFE - Iteration = 400 :   F1-Score = 77.90476352378077 :   Number of Selected Features= 400 :  Run= 6\n",
      "SFE - Iteration = 500 :   F1-Score = 77.90476352378077 :   Number of Selected Features= 400 :  Run= 6\n",
      "SFE - Iteration = 600 :   F1-Score = 77.90476352378077 :   Number of Selected Features= 400 :  Run= 6\n",
      "SFE - Iteration = 700 :   F1-Score = 77.90476352378077 :   Number of Selected Features= 400 :  Run= 6\n",
      "SFE - Iteration = 800 :   F1-Score = 78.81274231285234 :   Number of Selected Features= 400 :  Run= 6\n",
      "SFE - Iteration = 900 :   F1-Score = 79.71541903717528 :   Number of Selected Features= 400 :  Run= 6\n",
      "SFE - Iteration = 1000 :   F1-Score = 80.67025254632648 :   Number of Selected Features= 400 :  Run= 6\n",
      "SFE - Iteration = 100 :   F1-Score = 76.32183867816836 :   Number of Selected Features= 400 :  Run= 7\n",
      "SFE - Iteration = 200 :   F1-Score = 76.7598483666368 :   Number of Selected Features= 400 :  Run= 7\n",
      "SFE - Iteration = 300 :   F1-Score = 76.7598483666368 :   Number of Selected Features= 400 :  Run= 7\n",
      "SFE - Iteration = 400 :   F1-Score = 76.7598483666368 :   Number of Selected Features= 400 :  Run= 7\n",
      "SFE - Iteration = 500 :   F1-Score = 78.19085024349485 :   Number of Selected Features= 400 :  Run= 7\n",
      "SFE - Iteration = 600 :   F1-Score = 78.19085024349485 :   Number of Selected Features= 400 :  Run= 7\n",
      "SFE - Iteration = 700 :   F1-Score = 78.19085024349485 :   Number of Selected Features= 400 :  Run= 7\n",
      "SFE - Iteration = 800 :   F1-Score = 78.73242308453764 :   Number of Selected Features= 400 :  Run= 7\n",
      "SFE - Iteration = 900 :   F1-Score = 78.8649823566954 :   Number of Selected Features= 400 :  Run= 7\n",
      "SFE - Iteration = 1000 :   F1-Score = 80.28057709937625 :   Number of Selected Features= 400 :  Run= 7\n",
      "SFE - Iteration = 100 :   F1-Score = 76.7343719985948 :   Number of Selected Features= 400 :  Run= 8\n",
      "SFE - Iteration = 200 :   F1-Score = 76.7343719985948 :   Number of Selected Features= 400 :  Run= 8\n",
      "SFE - Iteration = 300 :   F1-Score = 77.29053305086487 :   Number of Selected Features= 400 :  Run= 8\n",
      "SFE - Iteration = 400 :   F1-Score = 77.29053305086487 :   Number of Selected Features= 400 :  Run= 8\n",
      "SFE - Iteration = 500 :   F1-Score = 77.29053305086487 :   Number of Selected Features= 400 :  Run= 8\n",
      "SFE - Iteration = 600 :   F1-Score = 77.7735005300067 :   Number of Selected Features= 400 :  Run= 8\n",
      "SFE - Iteration = 700 :   F1-Score = 77.7735005300067 :   Number of Selected Features= 400 :  Run= 8\n",
      "SFE - Iteration = 800 :   F1-Score = 77.7735005300067 :   Number of Selected Features= 400 :  Run= 8\n",
      "SFE - Iteration = 900 :   F1-Score = 77.7735005300067 :   Number of Selected Features= 400 :  Run= 8\n",
      "SFE - Iteration = 1000 :   F1-Score = 78.7334342064512 :   Number of Selected Features= 400 :  Run= 8\n",
      "SFE - Iteration = 100 :   F1-Score = 76.5985032194375 :   Number of Selected Features= 400 :  Run= 9\n",
      "SFE - Iteration = 200 :   F1-Score = 76.5985032194375 :   Number of Selected Features= 400 :  Run= 9\n",
      "SFE - Iteration = 300 :   F1-Score = 76.5985032194375 :   Number of Selected Features= 400 :  Run= 9\n",
      "SFE - Iteration = 400 :   F1-Score = 77.89833227596996 :   Number of Selected Features= 400 :  Run= 9\n",
      "SFE - Iteration = 500 :   F1-Score = 77.89833227596996 :   Number of Selected Features= 400 :  Run= 9\n",
      "SFE - Iteration = 600 :   F1-Score = 77.89833227596996 :   Number of Selected Features= 400 :  Run= 9\n",
      "SFE - Iteration = 700 :   F1-Score = 79.02052637965255 :   Number of Selected Features= 400 :  Run= 9\n",
      "SFE - Iteration = 800 :   F1-Score = 79.02052637965255 :   Number of Selected Features= 400 :  Run= 9\n",
      "SFE - Iteration = 900 :   F1-Score = 79.02052637965255 :   Number of Selected Features= 400 :  Run= 9\n",
      "SFE - Iteration = 1000 :   F1-Score = 79.80059731038439 :   Number of Selected Features= 400 :  Run= 9\n",
      "SFE - Iteration = 100 :   F1-Score = 76.6547062318975 :   Number of Selected Features= 400 :  Run= 10\n",
      "SFE - Iteration = 200 :   F1-Score = 76.6547062318975 :   Number of Selected Features= 400 :  Run= 10\n",
      "SFE - Iteration = 300 :   F1-Score = 76.6547062318975 :   Number of Selected Features= 400 :  Run= 10\n",
      "SFE - Iteration = 400 :   F1-Score = 77.5802329716051 :   Number of Selected Features= 400 :  Run= 10\n",
      "SFE - Iteration = 500 :   F1-Score = 77.5802329716051 :   Number of Selected Features= 400 :  Run= 10\n",
      "SFE - Iteration = 600 :   F1-Score = 77.5802329716051 :   Number of Selected Features= 400 :  Run= 10\n",
      "SFE - Iteration = 700 :   F1-Score = 77.62159910501732 :   Number of Selected Features= 400 :  Run= 10\n",
      "SFE - Iteration = 800 :   F1-Score = 78.13449079962712 :   Number of Selected Features= 400 :  Run= 10\n",
      "SFE - Iteration = 900 :   F1-Score = 78.47641162209106 :   Number of Selected Features= 400 :  Run= 10\n",
      "SFE - Iteration = 1000 :   F1-Score = 80.23990609687357 :   Number of Selected Features= 400 :  Run= 10\n",
      "SFE - Iteration = 100 :   F1-Score = 76.70663092183035 :   Number of Selected Features= 400 :  Run= 11\n",
      "SFE - Iteration = 200 :   F1-Score = 76.70663092183035 :   Number of Selected Features= 400 :  Run= 11\n",
      "SFE - Iteration = 300 :   F1-Score = 76.70663092183035 :   Number of Selected Features= 400 :  Run= 11\n",
      "SFE - Iteration = 400 :   F1-Score = 76.70663092183035 :   Number of Selected Features= 400 :  Run= 11\n",
      "SFE - Iteration = 500 :   F1-Score = 76.70663092183035 :   Number of Selected Features= 400 :  Run= 11\n",
      "SFE - Iteration = 600 :   F1-Score = 77.93743095494028 :   Number of Selected Features= 400 :  Run= 11\n",
      "SFE - Iteration = 700 :   F1-Score = 78.01448688132334 :   Number of Selected Features= 400 :  Run= 11\n",
      "SFE - Iteration = 800 :   F1-Score = 78.01448688132334 :   Number of Selected Features= 400 :  Run= 11\n",
      "SFE - Iteration = 900 :   F1-Score = 78.89367034742807 :   Number of Selected Features= 400 :  Run= 11\n",
      "SFE - Iteration = 1000 :   F1-Score = 79.74956781910467 :   Number of Selected Features= 400 :  Run= 11\n",
      "SFE - Iteration = 100 :   F1-Score = 76.2983182298701 :   Number of Selected Features= 400 :  Run= 12\n",
      "SFE - Iteration = 200 :   F1-Score = 76.97167000066221 :   Number of Selected Features= 400 :  Run= 12\n",
      "SFE - Iteration = 300 :   F1-Score = 76.97167000066221 :   Number of Selected Features= 400 :  Run= 12\n",
      "SFE - Iteration = 400 :   F1-Score = 77.0008660548391 :   Number of Selected Features= 400 :  Run= 12\n",
      "SFE - Iteration = 500 :   F1-Score = 78.18383806585518 :   Number of Selected Features= 400 :  Run= 12\n",
      "SFE - Iteration = 600 :   F1-Score = 78.18383806585518 :   Number of Selected Features= 400 :  Run= 12\n",
      "SFE - Iteration = 700 :   F1-Score = 78.18383806585518 :   Number of Selected Features= 400 :  Run= 12\n",
      "SFE - Iteration = 800 :   F1-Score = 78.50993751366522 :   Number of Selected Features= 400 :  Run= 12\n",
      "SFE - Iteration = 900 :   F1-Score = 78.75644262947952 :   Number of Selected Features= 400 :  Run= 12\n",
      "SFE - Iteration = 1000 :   F1-Score = 79.9653656356326 :   Number of Selected Features= 400 :  Run= 12\n",
      "SFE - Iteration = 100 :   F1-Score = 77.10758737504916 :   Number of Selected Features= 400 :  Run= 13\n",
      "SFE - Iteration = 200 :   F1-Score = 77.10758737504916 :   Number of Selected Features= 400 :  Run= 13\n",
      "SFE - Iteration = 300 :   F1-Score = 78.10892052383238 :   Number of Selected Features= 400 :  Run= 13\n",
      "SFE - Iteration = 400 :   F1-Score = 78.10892052383238 :   Number of Selected Features= 400 :  Run= 13\n",
      "SFE - Iteration = 500 :   F1-Score = 78.10892052383238 :   Number of Selected Features= 400 :  Run= 13\n",
      "SFE - Iteration = 600 :   F1-Score = 78.45832148829768 :   Number of Selected Features= 400 :  Run= 13\n",
      "SFE - Iteration = 700 :   F1-Score = 78.9161877974387 :   Number of Selected Features= 400 :  Run= 13\n",
      "SFE - Iteration = 800 :   F1-Score = 78.9161877974387 :   Number of Selected Features= 400 :  Run= 13\n",
      "SFE - Iteration = 900 :   F1-Score = 79.69774735797589 :   Number of Selected Features= 400 :  Run= 13\n",
      "SFE - Iteration = 1000 :   F1-Score = 80.46352433701334 :   Number of Selected Features= 400 :  Run= 13\n",
      "SFE - Iteration = 100 :   F1-Score = 76.41564378238009 :   Number of Selected Features= 400 :  Run= 14\n",
      "SFE - Iteration = 200 :   F1-Score = 76.91042476291385 :   Number of Selected Features= 400 :  Run= 14\n",
      "SFE - Iteration = 300 :   F1-Score = 77.71535313779938 :   Number of Selected Features= 400 :  Run= 14\n",
      "SFE - Iteration = 400 :   F1-Score = 77.71535313779938 :   Number of Selected Features= 400 :  Run= 14\n",
      "SFE - Iteration = 500 :   F1-Score = 77.71535313779938 :   Number of Selected Features= 400 :  Run= 14\n",
      "SFE - Iteration = 600 :   F1-Score = 77.71535313779938 :   Number of Selected Features= 400 :  Run= 14\n",
      "SFE - Iteration = 700 :   F1-Score = 77.71535313779938 :   Number of Selected Features= 400 :  Run= 14\n",
      "SFE - Iteration = 800 :   F1-Score = 78.54356955487944 :   Number of Selected Features= 400 :  Run= 14\n",
      "SFE - Iteration = 900 :   F1-Score = 79.69994683526672 :   Number of Selected Features= 400 :  Run= 14\n",
      "SFE - Iteration = 1000 :   F1-Score = 80.51779245018797 :   Number of Selected Features= 400 :  Run= 14\n",
      "SFE - Iteration = 100 :   F1-Score = 77.70783523300835 :   Number of Selected Features= 400 :  Run= 15\n",
      "SFE - Iteration = 200 :   F1-Score = 78.95809610772892 :   Number of Selected Features= 400 :  Run= 15\n",
      "SFE - Iteration = 300 :   F1-Score = 78.95809610772892 :   Number of Selected Features= 400 :  Run= 15\n",
      "SFE - Iteration = 400 :   F1-Score = 78.95809610772892 :   Number of Selected Features= 400 :  Run= 15\n",
      "SFE - Iteration = 500 :   F1-Score = 78.95809610772892 :   Number of Selected Features= 400 :  Run= 15\n",
      "SFE - Iteration = 600 :   F1-Score = 78.95809610772892 :   Number of Selected Features= 400 :  Run= 15\n",
      "SFE - Iteration = 700 :   F1-Score = 78.95809610772892 :   Number of Selected Features= 400 :  Run= 15\n",
      "SFE - Iteration = 800 :   F1-Score = 78.95809610772892 :   Number of Selected Features= 400 :  Run= 15\n",
      "SFE - Iteration = 900 :   F1-Score = 79.45594746851089 :   Number of Selected Features= 400 :  Run= 15\n",
      "SFE - Iteration = 1000 :   F1-Score = 80.60749037358507 :   Number of Selected Features= 400 :  Run= 15\n",
      "SFE - Iteration = 100 :   F1-Score = 76.89254011013814 :   Number of Selected Features= 400 :  Run= 16\n",
      "SFE - Iteration = 200 :   F1-Score = 78.11903817171606 :   Number of Selected Features= 400 :  Run= 16\n",
      "SFE - Iteration = 300 :   F1-Score = 78.11903817171606 :   Number of Selected Features= 400 :  Run= 16\n",
      "SFE - Iteration = 400 :   F1-Score = 78.11903817171606 :   Number of Selected Features= 400 :  Run= 16\n",
      "SFE - Iteration = 500 :   F1-Score = 78.93965896137205 :   Number of Selected Features= 400 :  Run= 16\n",
      "SFE - Iteration = 600 :   F1-Score = 78.93965896137205 :   Number of Selected Features= 400 :  Run= 16\n",
      "SFE - Iteration = 700 :   F1-Score = 78.93965896137205 :   Number of Selected Features= 400 :  Run= 16\n",
      "SFE - Iteration = 800 :   F1-Score = 78.93965896137205 :   Number of Selected Features= 400 :  Run= 16\n",
      "SFE - Iteration = 900 :   F1-Score = 78.93965896137205 :   Number of Selected Features= 400 :  Run= 16\n",
      "SFE - Iteration = 1000 :   F1-Score = 79.35910927007214 :   Number of Selected Features= 400 :  Run= 16\n",
      "SFE - Iteration = 100 :   F1-Score = 78.95997622807067 :   Number of Selected Features= 400 :  Run= 17\n",
      "SFE - Iteration = 200 :   F1-Score = 78.95997622807067 :   Number of Selected Features= 400 :  Run= 17\n",
      "SFE - Iteration = 300 :   F1-Score = 78.95997622807067 :   Number of Selected Features= 400 :  Run= 17\n",
      "SFE - Iteration = 400 :   F1-Score = 78.95997622807067 :   Number of Selected Features= 400 :  Run= 17\n",
      "SFE - Iteration = 500 :   F1-Score = 78.95997622807067 :   Number of Selected Features= 400 :  Run= 17\n",
      "SFE - Iteration = 600 :   F1-Score = 78.95997622807067 :   Number of Selected Features= 400 :  Run= 17\n",
      "SFE - Iteration = 700 :   F1-Score = 78.95997622807067 :   Number of Selected Features= 400 :  Run= 17\n",
      "SFE - Iteration = 800 :   F1-Score = 78.95997622807067 :   Number of Selected Features= 400 :  Run= 17\n",
      "SFE - Iteration = 900 :   F1-Score = 78.95997622807067 :   Number of Selected Features= 400 :  Run= 17\n",
      "SFE - Iteration = 1000 :   F1-Score = 79.15000846721344 :   Number of Selected Features= 400 :  Run= 17\n",
      "SFE - Iteration = 100 :   F1-Score = 76.43987140796784 :   Number of Selected Features= 400 :  Run= 18\n",
      "SFE - Iteration = 200 :   F1-Score = 78.6102078283562 :   Number of Selected Features= 400 :  Run= 18\n",
      "SFE - Iteration = 300 :   F1-Score = 78.6102078283562 :   Number of Selected Features= 400 :  Run= 18\n",
      "SFE - Iteration = 400 :   F1-Score = 78.6102078283562 :   Number of Selected Features= 400 :  Run= 18\n",
      "SFE - Iteration = 500 :   F1-Score = 78.6102078283562 :   Number of Selected Features= 400 :  Run= 18\n",
      "SFE - Iteration = 600 :   F1-Score = 78.6102078283562 :   Number of Selected Features= 400 :  Run= 18\n",
      "SFE - Iteration = 700 :   F1-Score = 78.6102078283562 :   Number of Selected Features= 400 :  Run= 18\n",
      "SFE - Iteration = 800 :   F1-Score = 79.09174027203191 :   Number of Selected Features= 400 :  Run= 18\n",
      "SFE - Iteration = 900 :   F1-Score = 79.09174027203191 :   Number of Selected Features= 400 :  Run= 18\n",
      "SFE - Iteration = 1000 :   F1-Score = 79.67952543528138 :   Number of Selected Features= 400 :  Run= 18\n",
      "SFE - Iteration = 100 :   F1-Score = 76.52183632012023 :   Number of Selected Features= 429 :  Run= 19\n",
      "SFE - Iteration = 200 :   F1-Score = 76.52183632012023 :   Number of Selected Features= 429 :  Run= 19\n",
      "SFE - Iteration = 300 :   F1-Score = 76.64993639660017 :   Number of Selected Features= 400 :  Run= 19\n",
      "SFE - Iteration = 400 :   F1-Score = 77.40429191761699 :   Number of Selected Features= 400 :  Run= 19\n",
      "SFE - Iteration = 500 :   F1-Score = 77.58813692335757 :   Number of Selected Features= 400 :  Run= 19\n",
      "SFE - Iteration = 600 :   F1-Score = 77.58813692335757 :   Number of Selected Features= 400 :  Run= 19\n",
      "SFE - Iteration = 700 :   F1-Score = 77.76227218354043 :   Number of Selected Features= 400 :  Run= 19\n",
      "SFE - Iteration = 800 :   F1-Score = 79.37266286971781 :   Number of Selected Features= 400 :  Run= 19\n",
      "SFE - Iteration = 900 :   F1-Score = 79.50161352505661 :   Number of Selected Features= 400 :  Run= 19\n",
      "SFE - Iteration = 1000 :   F1-Score = 80.30037920258553 :   Number of Selected Features= 400 :  Run= 19\n",
      "SFE - Iteration = 100 :   F1-Score = 77.3320691813221 :   Number of Selected Features= 400 :  Run= 20\n",
      "SFE - Iteration = 200 :   F1-Score = 77.53868811675072 :   Number of Selected Features= 400 :  Run= 20\n",
      "SFE - Iteration = 300 :   F1-Score = 77.53868811675072 :   Number of Selected Features= 400 :  Run= 20\n",
      "SFE - Iteration = 400 :   F1-Score = 77.53868811675072 :   Number of Selected Features= 400 :  Run= 20\n",
      "SFE - Iteration = 500 :   F1-Score = 77.94584825122627 :   Number of Selected Features= 400 :  Run= 20\n",
      "SFE - Iteration = 600 :   F1-Score = 78.31649752680708 :   Number of Selected Features= 400 :  Run= 20\n",
      "SFE - Iteration = 700 :   F1-Score = 78.31649752680708 :   Number of Selected Features= 400 :  Run= 20\n",
      "SFE - Iteration = 800 :   F1-Score = 78.31649752680708 :   Number of Selected Features= 400 :  Run= 20\n",
      "SFE - Iteration = 900 :   F1-Score = 80.1657958595068 :   Number of Selected Features= 400 :  Run= 20\n",
      "SFE - Iteration = 1000 :   F1-Score = 80.22033838507136 :   Number of Selected Features= 400 :  Run= 20\n"
     ]
    }
   ],
   "source": [
    "cnt_feat = 400\n",
    "Max_FEs = 1000\n",
    "Max_Run = 20\n",
    "\n",
    "UR = 0.3\n",
    "UR_Max = 0.3\n",
    "UR_Min = 0.001\n",
    "Run = 1\n",
    "\n",
    "Best_Score = 0\n",
    "Best_X = None\n",
    "Cost_tr = np.full([Max_FEs, Max_Run], np.nan)\n",
    "Cost_va = np.full([Max_FEs, Max_Run], np.nan)\n",
    "Cost_te = np.full([Max_FEs, Max_Run], np.nan)\n",
    "Sel_feat = np.full([Max_FEs, Max_Run], np.nan)\n",
    "FN = np.zeros([Max_Run, 1])\n",
    "Fit_X = 0\n",
    "\n",
    "w = 0.5   # inertia weight\n",
    "c1 = 1.5  # cognitive parameter\n",
    "c2 = 1.5  # social parameter\n",
    "n_particles=30 # the number of particles\n",
    "\n",
    "while Run <= Max_Run:\n",
    "    EFs = 1\n",
    "\n",
    "    X = np.random.randint(1, 2, np.size(Input, 1))   # Initialize an Individual X\n",
    "    Fit_tr = fit_all(Xtrain, ytrain, Xtrain, ytrain, X)    # Calculate the Fitness of X\n",
    "    Fit_X = fit_all(Xtrain, ytrain, Xval, yval, X)    # Calculate the Fitness of X\n",
    "    Fit_te = fit_all(Xtrain, ytrain, Xtest, ytest, X)    # Calculate the Fitness of X\n",
    "    Nvar = np.size(Input, 1)                         # Number of Features in Dataset\n",
    "\n",
    "    while EFs <= Max_FEs:\n",
    "        \"\"\"*************************SFE Algorithm**********************************\"\"\"\n",
    "        X_New = np.copy(X)\n",
    "\n",
    "        # Non-selection operation:\n",
    "        U_Index = np.where(X == 1)                      # Find Selected Features in X\n",
    "        NUSF_X = np.size(U_Index, 1)                    # Number of Selected Features in X\n",
    "        UN = math.ceil(UR * Nvar)                         # The Number of Features to Unselect: Eq(2)\n",
    "        K1 = np.random.randint(0, NUSF_X, UN)           # Generate UN random number between 1 to the number of selected features in X\n",
    "        res = np.array([*set(K1)])\n",
    "        res1 = np.array(res)\n",
    "        K = U_Index[0][[res1]]                          # K=index(U)\n",
    "        X_New[K] = 0                                    # Set X_New (K)=0 \n",
    "\n",
    "       # Selection operation:\n",
    "        if np.sum(X_New) < cnt_feat:\n",
    "            S_Index = np.where(X_New == 0)              # Find non-selected Features in X\n",
    "            NSF_X = np.size(S_Index, 1)                 # Number of non-selected Features in X\n",
    "            SN = cnt_feat - np.sum(X_New)               # The Number of Features to Select\n",
    "            res = np.random.choice(np.arange(NSF_X), size=SN, replace=False)        # Generate SN random number between 1 to the number of non-selected features in X\n",
    "            res1 = np.array(res)\n",
    "            K = S_Index[0][[res1]]\n",
    "#                 X_New = np.copy(X)\n",
    "            X_New[K] = 1                                # Set X_New (K)=1\n",
    "\n",
    "        Fit_X_New = fit_all(Xtrain, ytrain, Xval, yval, X_New) # Calculate the Fitness of X_New\n",
    "\n",
    "        if Fit_X_New > Fit_X:\n",
    "            X = np.copy(X_New)\n",
    "            Fit_X = Fit_X_New\n",
    "            Fit_tr = fit_all(Xtrain, ytrain, Xtrain, ytrain, X_New)\n",
    "            Fit_te = fit_all(Xtrain, ytrain, Xtest, ytest, X_New)\n",
    "\n",
    "        UR = (UR_Max - UR_Min) * ((Max_FEs - EFs) / Max_FEs) + UR_Min  # Eq(3)\n",
    "        Cost_tr[EFs-1, Run-1] = Fit_tr\n",
    "        Cost_va[EFs-1, Run-1] = Fit_X\n",
    "        Cost_te[EFs-1, Run-1] = Fit_te\n",
    "        Sel_feat[EFs-1, Run-1] = np.sum(X)\n",
    "\n",
    "        if EFs % 100 == 0:\n",
    "            print('SFE - Iteration = {} :   F1-Score = {} :   Number of Selected Features= {} :  Run= {}'.format( EFs, Fit_X, np.sum(X), Run))\n",
    "        \n",
    "        EFs += 1\n",
    "\n",
    "        if Fit_X > Best_Score:\n",
    "            Best_Score = Fit_X\n",
    "            Best_X = X\n",
    "            \n",
    "        \"\"\"*************************PSO Algorithm**********************************\"\"\"\n",
    "        # if EFs > 500 and EFs <= Max_FEs and (Cost_va[EFs-2,Run-1] - Cost_va[EFs-102,Run-1]) < 1e-2:\n",
    "        #     \"\"\"S = removing unselected features from the training dataset\"\"\"\n",
    "        #     S = np.array([i for i in range(len(X)) if X[i] == 1])\n",
    "        #     Xtrain_selected = [x[:, S] for x in Xtrain]\n",
    "        #     Xval_selected = [x[:, S] for x in Xval]\n",
    "        #     Xtest_selected = [x[:, S] for x in Xtest]\n",
    "            \n",
    "        #     Cost_tr, Cost_va, Cost_te, FN, gbest = PSO1(30, Max_FEs, EFs, Run, Xtrain_selected, ytrain, Xval_selected, yval, Xtest_selected, ytest, Cost_tr, Cost_va, Cost_te, FN)\n",
    "        #     gbest_fitness = FN[Run - 1, 0]\n",
    "        #     EFs = Max_FEs + 1\n",
    "                \n",
    "        #     if gbest_fitness > Best_Score:\n",
    "        #         Best_Score = gbest_fitness\n",
    "        #         Best_X = np.zeros(len(X))\n",
    "        #         cnt = 0\n",
    "        #         for i in range(len(X)):\n",
    "        #             if X[i] == 1:\n",
    "        #                 if gbest[cnt] == 1:\n",
    "        #                     Best_X[i] = 1\n",
    "        #                 cnt += 1\n",
    "                        \n",
    "    Run += 1"
   ]
  },
  {
   "cell_type": "code",
   "execution_count": 16,
   "id": "athletic-phone",
   "metadata": {
    "execution": {
     "iopub.execute_input": "2025-03-01T17:45:54.144819Z",
     "iopub.status.busy": "2025-03-01T17:45:54.144162Z",
     "iopub.status.idle": "2025-03-01T17:45:54.796169Z",
     "shell.execute_reply": "2025-03-01T17:45:54.796664Z",
     "shell.execute_reply.started": "2024-12-04T16:18:42.12557Z"
    },
    "papermill": {
     "duration": 0.741859,
     "end_time": "2025-03-01T17:45:54.796834",
     "exception": false,
     "start_time": "2025-03-01T17:45:54.054975",
     "status": "completed"
    },
    "tags": []
   },
   "outputs": [
    {
     "name": "stdout",
     "output_type": "stream",
     "text": [
      "\n",
      " Fitness evaluate on Test:\n",
      "\n",
      " Best = 80.97392539695798 \n",
      "\n",
      " Count = 400 \n",
      "\n",
      " Mean = 78.9105198398183 \n",
      "\n",
      " Worst = 75.48924947808231  \n",
      "\n",
      " std  = 1.4753292333814108\n"
     ]
    },
    {
     "data": {
      "image/png": "[encoded data removed]",
      "text/plain": [
       "<Figure size 1200x1500 with 2 Axes>"
      ]
     },
     "metadata": {
      "needs_background": "light"
     },
     "output_type": "display_data"
    }
   ],
   "source": [
    "# Function to get the last non-NaN value in each column\n",
    "def get_last_valid_per_column(matrix):\n",
    "    last_valid_values = np.full(matrix.shape[1], np.nan)  # Initialize with NaN\n",
    "    for col in range(matrix.shape[1]):\n",
    "        valid_indices = np.where(~np.isnan(matrix[:, col]))[0]  # Get indices of non-NaN values\n",
    "        if valid_indices.size > 0:\n",
    "            last_valid_values[col] = matrix[valid_indices[-1], col]  # Get the last valid value\n",
    "    return last_valid_values\n",
    "\n",
    "# Get the last non-NaN value for each column in Cost_te\n",
    "cost1 = get_last_valid_per_column(Cost_te)\n",
    "\n",
    "valid_cost1 = cost1[~np.isnan(cost1)]  # Only consider non-empty values\n",
    "print('\\n Fitness evaluate on Test:')\n",
    "print('\\n Best = {} '.format(max(valid_cost1)))\n",
    "print('\\n Count = {} '.format(np.sum(Best_X)))\n",
    "print('\\n Mean = {} '.format(valid_cost1.mean()))\n",
    "print('\\n Worst = {}  '.format(min(valid_cost1)))\n",
    "print('\\n std  = {}'.format(np.std(valid_cost1)))\n",
    "\n",
    "fig, (ax1, ax2) = plt.subplots(2, 1, figsize=(4, 5), dpi=300)\n",
    "\n",
    "valid_Cost_tr = Cost_tr[~np.isnan(Cost_tr).any(axis=1)]\n",
    "valid_Cost_va = Cost_va[~np.isnan(Cost_va).any(axis=1)]\n",
    "valid_Cost_te = Cost_te[~np.isnan(Cost_te).any(axis=1)]\n",
    "valid_Sel_feat = Sel_feat[~np.isnan(Sel_feat).any(axis=1)]\n",
    "\n",
    "ax1.plot(np.nanmean(valid_Cost_tr, axis=1), '-', label='Train', color='blue')\n",
    "ax1.plot(np.nanmean(valid_Cost_va, axis=1), '-', label='Validation', color='green')\n",
    "ax1.plot(np.nanmean(valid_Cost_te, axis=1), '-', label='Test', color='red')\n",
    "ax1.set_xlabel('Number of Fitness Evaluations')\n",
    "ax1.set_ylabel('Classification F1-Score')\n",
    "ax1.set_title('Classification F1-Score vs. Fitness Evaluations')\n",
    "ax1.grid()\n",
    "ax1.legend()\n",
    "\n",
    "ax2.plot(np.nanmean(valid_Sel_feat, axis=1), '-', label='Num_feat', color='orange')\n",
    "ax2.set_xlabel('Number of Fitness Evaluations')\n",
    "ax2.set_ylabel('Number of Selected Features')\n",
    "ax2.set_title('Selected Features vs. Fitness Evaluations')\n",
    "ax2.grid()\n",
    "ax2.legend()\n",
    "\n",
    "# ax3.plot(np.nanmean(valid_Cost_tr, axis=1), '-', label='Train', color='blue')\n",
    "# ax3.plot(np.nanmean(valid_Cost_va, axis=1), '-', label='Validation', color='green')\n",
    "# ax3.set_xlabel('Number of Fitness Evaluations')\n",
    "# ax3.set_ylabel('Classification F1-Score')\n",
    "# ax3.set_title('Classification F1-Score vs. Fitness Evaluations')\n",
    "# ax3.grid()\n",
    "# ax3.legend()\n",
    "\n",
    "plt.tight_layout()\n",
    "plt.show()"
   ]
  },
  {
   "cell_type": "markdown",
   "id": "agreed-exploration",
   "metadata": {
    "papermill": {
     "duration": 0.080094,
     "end_time": "2025-03-01T17:45:54.958383",
     "exception": false,
     "start_time": "2025-03-01T17:45:54.878289",
     "status": "completed"
    },
    "tags": []
   },
   "source": [
    "# 1.2. Load trained models and check accuracy phase 1"
   ]
  },
  {
   "cell_type": "code",
   "execution_count": 17,
   "id": "micro-domestic",
   "metadata": {
    "execution": {
     "iopub.execute_input": "2025-03-01T17:45:55.128723Z",
     "iopub.status.busy": "2025-03-01T17:45:55.128141Z",
     "iopub.status.idle": "2025-03-01T17:45:55.130834Z",
     "shell.execute_reply": "2025-03-01T17:45:55.130348Z",
     "shell.execute_reply.started": "2024-12-04T16:18:42.802893Z"
    },
    "papermill": {
     "duration": 0.090767,
     "end_time": "2025-03-01T17:45:55.130969",
     "exception": false,
     "start_time": "2025-03-01T17:45:55.040202",
     "status": "completed"
    },
    "tags": []
   },
   "outputs": [],
   "source": [
    "# fit_all_print(Xtrain, ytrain, Xtest, ytest, Best_X)"
   ]
  },
  {
   "cell_type": "markdown",
   "id": "entertaining-tactics",
   "metadata": {
    "papermill": {
     "duration": 0.080405,
     "end_time": "2025-03-01T17:45:55.292793",
     "exception": false,
     "start_time": "2025-03-01T17:45:55.212388",
     "status": "completed"
    },
    "tags": []
   },
   "source": [
    "# MODULE 2: Integrated Gradient"
   ]
  },
  {
   "cell_type": "code",
   "execution_count": 18,
   "id": "alternative-people",
   "metadata": {
    "execution": {
     "iopub.execute_input": "2025-03-01T17:45:55.460184Z",
     "iopub.status.busy": "2025-03-01T17:45:55.459417Z",
     "iopub.status.idle": "2025-03-01T17:45:55.461742Z",
     "shell.execute_reply": "2025-03-01T17:45:55.462191Z",
     "shell.execute_reply.started": "2024-12-04T16:18:42.811177Z"
    },
    "papermill": {
     "duration": 0.088728,
     "end_time": "2025-03-01T17:45:55.462344",
     "exception": false,
     "start_time": "2025-03-01T17:45:55.373616",
     "status": "completed"
    },
    "tags": []
   },
   "outputs": [],
   "source": [
    "biomarkers_folder = '/kaggle/working/biomarkers/' + COHORT\n",
    "postfix_tr = '_tr'\n",
    "postfix_te = '_val'"
   ]
  },
  {
   "cell_type": "code",
   "execution_count": 19,
   "id": "human-foster",
   "metadata": {
    "execution": {
     "iopub.execute_input": "2025-03-01T17:45:55.628905Z",
     "iopub.status.busy": "2025-03-01T17:45:55.628283Z",
     "iopub.status.idle": "2025-03-01T17:45:55.640165Z",
     "shell.execute_reply": "2025-03-01T17:45:55.639548Z",
     "shell.execute_reply.started": "2024-12-04T16:18:42.832403Z"
    },
    "papermill": {
     "duration": 0.096261,
     "end_time": "2025-03-01T17:45:55.640290",
     "exception": false,
     "start_time": "2025-03-01T17:45:55.544029",
     "status": "completed"
    },
    "tags": []
   },
   "outputs": [],
   "source": [
    "if not os.path.exists(biomarkers_folder):\n",
    "    os.makedirs(biomarkers_folder)\n",
    "\n",
    "\n",
    "Feat = feat[Best_X == 1]\n",
    "pd.DataFrame(Feat).to_csv(f'{biomarkers_folder}/SFE.csv', index=False)"
   ]
  },
  {
   "cell_type": "markdown",
   "id": "heavy-joyce",
   "metadata": {
    "papermill": {
     "duration": 0.080209,
     "end_time": "2025-03-01T17:45:55.801900",
     "exception": false,
     "start_time": "2025-03-01T17:45:55.721691",
     "status": "completed"
    },
    "tags": []
   },
   "source": [
    "# 3. PHASE 3"
   ]
  },
  {
   "cell_type": "code",
   "execution_count": 20,
   "id": "minute-party",
   "metadata": {
    "execution": {
     "iopub.execute_input": "2025-03-01T17:45:55.971398Z",
     "iopub.status.busy": "2025-03-01T17:45:55.970751Z",
     "iopub.status.idle": "2025-03-01T17:45:56.032804Z",
     "shell.execute_reply": "2025-03-01T17:45:56.033241Z",
     "shell.execute_reply.started": "2024-12-04T16:18:42.857846Z"
    },
    "papermill": {
     "duration": 0.150703,
     "end_time": "2025-03-01T17:45:56.033397",
     "exception": false,
     "start_time": "2025-03-01T17:45:55.882694",
     "status": "completed"
    },
    "tags": []
   },
   "outputs": [
    {
     "name": "stdout",
     "output_type": "stream",
     "text": [
      "{1: 'GE', 2: 'CNA'}\n",
      "['GE', 'CNA']\n",
      "['GE_CNA']\n"
     ]
    }
   ],
   "source": [
    "loc_file_json_id_omic = data_folder + '/1/dict_id_omics.json'\n",
    "with open(loc_file_json_id_omic) as file_json_id_omic:\n",
    "    dct_OMIC_MAPPING_NAME = json.load(file_json_id_omic)\n",
    "    dct_OMIC_MAPPING_NAME = {int(k): v for k,v in dct_OMIC_MAPPING_NAME.items()} # convert str number key to int\n",
    "# print(\"\\n{int_id_omic:omic_name} = \", dct_OMIC_MAPPING_NAME)\n",
    "\n",
    "\n",
    "# dct_OMIC_MAPPING_NAME = {k: v for k, v in dct_OMIC_MAPPING_NAME.items() if k in view_list}\n",
    "\n",
    "# Threshold to take number of genes (biomarkers) per subtype\n",
    "print(dct_OMIC_MAPPING_NAME)\n",
    "ROOT_DATA_FOLDER = f'/kaggle/input/{dataset_name}/{COHORT}/train_test_split_org/'\n",
    "RANDOM_STATE = 42\n",
    "\n",
    "LIST_OMICS = list(dct_OMIC_MAPPING_NAME.values())\n",
    "print(LIST_OMICS)\n",
    "LIST_OMICS_ID = np.arange(1,len(LIST_OMICS)+1,1)\n",
    "\n",
    "# Single omic or Multi-omics| to run experiments\n",
    "LIST_EXP_OMICS = ['_'.join(LIST_OMICS)]\n",
    "print(LIST_EXP_OMICS)\n",
    "\n",
    "\n",
    "LIST_TYPE_DATA = ['train', 'test']\n",
    "DATA_FOLDER = {'train': ROOT_DATA_FOLDER,\n",
    "              'test': ROOT_DATA_FOLDER}\n",
    "\n",
    "loc_file_json_id_label = data_folder + '/1/dct_index_subtype.json'\n",
    "with open(loc_file_json_id_label) as file_json_id_label:\n",
    "    dct_LABEL_MAPPING_NAME = json.load(file_json_id_label)\n",
    "    dct_LABEL_MAPPING_NAME = {int(k): v for k,v in dct_LABEL_MAPPING_NAME.items()}\n",
    "ORIGINAL_MAPPING_NAME = dct_LABEL_MAPPING_NAME"
   ]
  },
  {
   "cell_type": "code",
   "execution_count": 21,
   "id": "sought-minneapolis",
   "metadata": {
    "execution": {
     "iopub.execute_input": "2025-03-01T17:45:56.201989Z",
     "iopub.status.busy": "2025-03-01T17:45:56.201329Z",
     "iopub.status.idle": "2025-03-01T17:45:56.204306Z",
     "shell.execute_reply": "2025-03-01T17:45:56.203763Z",
     "shell.execute_reply.started": "2024-12-04T16:18:42.896041Z"
    },
    "papermill": {
     "duration": 0.087809,
     "end_time": "2025-03-01T17:45:56.204427",
     "exception": false,
     "start_time": "2025-03-01T17:45:56.116618",
     "status": "completed"
    },
    "tags": []
   },
   "outputs": [],
   "source": [
    "BIOMARKERS_RESULT_FOLDER = '/kaggle/working/biomarkers'\n",
    "list_loc_biomarkers = []\n",
    "for dirname, _, filenames in os.walk(BIOMARKERS_RESULT_FOLDER):\n",
    "    for filename in filenames:\n",
    "        list_loc_biomarkers.append(os.path.join(dirname, filename))\n",
    "# print(list_loc_biomarkers)"
   ]
  },
  {
   "cell_type": "markdown",
   "id": "authentic-whale",
   "metadata": {
    "papermill": {
     "duration": 0.138208,
     "end_time": "2025-03-01T17:45:56.425006",
     "exception": false,
     "start_time": "2025-03-01T17:45:56.286798",
     "status": "completed"
    },
    "tags": []
   },
   "source": [
    "# 3.1. Check overlap with other genes"
   ]
  },
  {
   "cell_type": "code",
   "execution_count": 22,
   "id": "satellite-selling",
   "metadata": {
    "execution": {
     "iopub.execute_input": "2025-03-01T17:45:56.596138Z",
     "iopub.status.busy": "2025-03-01T17:45:56.595130Z",
     "iopub.status.idle": "2025-03-01T17:45:56.597926Z",
     "shell.execute_reply": "2025-03-01T17:45:56.597320Z",
     "shell.execute_reply.started": "2024-12-04T16:18:42.906686Z"
    },
    "papermill": {
     "duration": 0.091463,
     "end_time": "2025-03-01T17:45:56.598056",
     "exception": false,
     "start_time": "2025-03-01T17:45:56.506593",
     "status": "completed"
    },
    "tags": []
   },
   "outputs": [],
   "source": [
    "direct_evidence_gene_list = [\n",
    "    'ABCB1', 'ABCC1', 'ABCG2', 'ACTA2', 'AKT1', 'ALDOA', 'AR', 'ATM', 'AURKA', 'BARD1', \n",
    "    'BCL2', 'BIRC5', 'BMP2', 'BRCA1', 'BRCA2', 'BRIP1', 'CASP7', 'CASP8', 'CAT', 'CAV1', \n",
    "    'CCND1', 'CCNE1', 'CDH1', 'CDH2', 'CDKN1B', 'CHEK1', 'CHEK2', 'CPT1A', 'CSF3', \n",
    "    'CTNNB1', 'CXCL2', 'CXCL8', 'CXCR4', 'CYP19A1', 'CYP1A1', 'CYP1B1', 'CYP2D6', 'CYP3A4', \n",
    "    'DDIT3', 'DNMT1', 'E2F1', 'EFNA1', 'EFEMP1', 'EGF', 'EGFR', 'ERBB2', 'ERBB3', 'ESR1', \n",
    "    'ESR2', 'F3', 'FASN', 'FN1', 'FOS', 'GJA1', 'GPX1', 'GSK3B', 'GSTP1', 'H2AX', 'HIF1A', \n",
    "    'HMOX1', 'HMMR', 'IFNG', 'IGF1', 'IGF1R', 'IL1B', 'IL6', 'JUN', 'KRAS', 'MDM2', 'MKI67', \n",
    "    'MMP1', 'MMP2', 'MMP3', 'MMP9', 'MTOR', 'NFKBIA', 'NOS2', 'NOS3', 'NOTCH1', 'NQO1', \n",
    "    'NQO2', 'PALB2', 'PARP1', 'PGR', 'PHGDH', 'PHB', 'PIK3CA', 'PPM1D', 'PTEN', 'PTGS2', \n",
    "    'RAD51', 'RAD51A', 'RAD54L', 'RARA', 'RB1', 'RB1CC1', 'RELA', 'SERPINB2', 'SLC22A1L', \n",
    "    'SLC2A1', 'SNAI1', 'SOD2', 'SPP1', 'STAT3', 'STMN1', 'TERT', 'TFRC', 'TNF', 'TOP2A', \n",
    "    'TP53', 'TRP53', 'TSG101', 'UBE2C', 'XRCC3'\n",
    "]\n",
    "# topn_lst = [50, 100, 200, 400]"
   ]
  },
  {
   "cell_type": "code",
   "execution_count": 23,
   "id": "median-configuration",
   "metadata": {
    "execution": {
     "iopub.execute_input": "2025-03-01T17:45:56.770114Z",
     "iopub.status.busy": "2025-03-01T17:45:56.769460Z",
     "iopub.status.idle": "2025-03-01T17:45:56.796257Z",
     "shell.execute_reply": "2025-03-01T17:45:56.795673Z",
     "shell.execute_reply.started": "2024-12-04T16:18:42.922272Z"
    },
    "papermill": {
     "duration": 0.116909,
     "end_time": "2025-03-01T17:45:56.796385",
     "exception": false,
     "start_time": "2025-03-01T17:45:56.679476",
     "status": "completed"
    },
    "tags": []
   },
   "outputs": [
    {
     "data": {
      "text/html": [
       "<div>\n",
       "<style scoped>\n",
       "    .dataframe tbody tr th:only-of-type {\n",
       "        vertical-align: middle;\n",
       "    }\n",
       "\n",
       "    .dataframe tbody tr th {\n",
       "        vertical-align: top;\n",
       "    }\n",
       "\n",
       "    .dataframe thead th {\n",
       "        text-align: right;\n",
       "    }\n",
       "</style>\n",
       "<table border=\"1\" class=\"dataframe\">\n",
       "  <thead>\n",
       "    <tr style=\"text-align: right;\">\n",
       "      <th></th>\n",
       "      <th>Baseline</th>\n",
       "      <th>TopN</th>\n",
       "      <th>Intersect with Direct Evidence Gene List</th>\n",
       "    </tr>\n",
       "  </thead>\n",
       "  <tbody>\n",
       "    <tr>\n",
       "      <th>0</th>\n",
       "      <td>SFE.csv</td>\n",
       "      <td>400</td>\n",
       "      <td>ABCG2, CCNE1, IGF1R, PTGS2, UBE2C</td>\n",
       "    </tr>\n",
       "  </tbody>\n",
       "</table>\n",
       "</div>"
      ],
      "text/plain": [
       "  Baseline  TopN Intersect with Direct Evidence Gene List\n",
       "0  SFE.csv   400        ABCG2, CCNE1, IGF1R, PTGS2, UBE2C"
      ]
     },
     "metadata": {},
     "output_type": "display_data"
    }
   ],
   "source": [
    "data = []\n",
    "\n",
    "for file_loc in list_loc_biomarkers:\n",
    "    file_name = file_loc.split('/')[-1]\n",
    "    ig_biomarkers = pd.read_csv(file_loc).iloc[:, 0].str.split(r'\\|').str[0].values.tolist()\n",
    "    baseline_name = '-'.join(file_name.split('_')[:])\n",
    "#     for i in topn_lst:\n",
    "    intersect_direct = sorted(list(set(direct_evidence_gene_list).intersection(set(ig_biomarkers[:]))))\n",
    "    intersect_direct_str = ', '.join(intersect_direct)\n",
    "    data.append([baseline_name, len(ig_biomarkers), intersect_direct_str]) #, intersect_reference, intersect_inference])\n",
    "\n",
    "df = pd.DataFrame(data, columns=['Baseline', 'TopN', 'Intersect with Direct Evidence Gene List']) #, 'Intersect with Top Reference Gene List', 'Intersect with Top Inference Gene List'])\n",
    "\n",
    "# Print table\n",
    "pd.set_option('display.max_colwidth', None)\n",
    "display(df)\n",
    "\n",
    "df.to_csv(\"/kaggle/working/genes_overlap.csv\", index=False)"
   ]
  },
  {
   "cell_type": "markdown",
   "id": "worst-accuracy",
   "metadata": {
    "papermill": {
     "duration": 0.080646,
     "end_time": "2025-03-01T17:45:56.958832",
     "exception": false,
     "start_time": "2025-03-01T17:45:56.878186",
     "status": "completed"
    },
    "tags": []
   },
   "source": [
    "# 3.2. TEST WITH CLASSIC ML ALGO"
   ]
  },
  {
   "cell_type": "code",
   "execution_count": 24,
   "id": "iraqi-telling",
   "metadata": {
    "execution": {
     "iopub.execute_input": "2025-03-01T17:45:57.128410Z",
     "iopub.status.busy": "2025-03-01T17:45:57.127815Z",
     "iopub.status.idle": "2025-03-01T17:45:57.130317Z",
     "shell.execute_reply": "2025-03-01T17:45:57.130783Z",
     "shell.execute_reply.started": "2024-12-04T16:18:42.984668Z"
    },
    "papermill": {
     "duration": 0.090497,
     "end_time": "2025-03-01T17:45:57.130949",
     "exception": false,
     "start_time": "2025-03-01T17:45:57.040452",
     "status": "completed"
    },
    "tags": []
   },
   "outputs": [],
   "source": [
    "# pd.set_option('display.max_columns', None)\n",
    "# pd.set_option('display.expand_frame_repr', False)\n",
    "# pd.set_option('max_colwidth', None)\n",
    "def printmd(string, color=None):\n",
    "    colorstr = \"<span style='color:{}'>{}</span>\".format(color, string)\n",
    "    display(Markdown(colorstr))"
   ]
  },
  {
   "cell_type": "code",
   "execution_count": 25,
   "id": "lesbian-option",
   "metadata": {
    "execution": {
     "iopub.execute_input": "2025-03-01T17:45:57.301153Z",
     "iopub.status.busy": "2025-03-01T17:45:57.300465Z",
     "iopub.status.idle": "2025-03-01T17:45:57.303040Z",
     "shell.execute_reply": "2025-03-01T17:45:57.303467Z",
     "shell.execute_reply.started": "2024-12-04T16:18:42.99141Z"
    },
    "papermill": {
     "duration": 0.091737,
     "end_time": "2025-03-01T17:45:57.303663",
     "exception": false,
     "start_time": "2025-03-01T17:45:57.211926",
     "status": "completed"
    },
    "tags": []
   },
   "outputs": [],
   "source": [
    "def display_classification_report(\n",
    "    n_class,\n",
    "    label,\n",
    "    pred,\n",
    "    label_mapping_name,\n",
    "    cmap=\"Blues\",\n",
    "    fmt=\".2%\",\n",
    "    annot=True,\n",
    "    path=None,  # str path to save fig. If not None\n",
    "    shown=True,\n",
    "):\n",
    "\n",
    "    clf_report = classification_report(\n",
    "        label,\n",
    "        pred,\n",
    "        target_names=label_mapping_name,\n",
    "        digits=4,\n",
    "        zero_division=0,\n",
    "        output_dict=True,\n",
    "    )\n",
    "\n",
    "    clf_df = pd.DataFrame(clf_report)\n",
    "    clf_df.loc[[\"precision\", \"recall\"], \"accuracy\"] = np.nan\n",
    "    fig, (ax1, ax2) = plt.subplots(1, 2)\n",
    "    fig.set_figwidth(12)\n",
    "    ConfusionMatrixDisplay(\n",
    "        confusion_matrix(label, pred), display_labels=label_mapping_name\n",
    "    ).plot(cmap=cmap, ax=ax1)\n",
    "    sns.heatmap(\n",
    "        clf_df.iloc[:-1, :].T, annot=annot, cmap=cmap, robust=True, ax=ax2, fmt=fmt\n",
    "    )\n",
    "    if path is not None:\n",
    "        fig.savefig(path, dpi=300)\n",
    "    if shown:\n",
    "        plt.show()\n",
    "    else:\n",
    "        plt.close(fig)"
   ]
  },
  {
   "cell_type": "code",
   "execution_count": 26,
   "id": "social-portable",
   "metadata": {
    "execution": {
     "iopub.execute_input": "2025-03-01T17:45:57.481552Z",
     "iopub.status.busy": "2025-03-01T17:45:57.480740Z",
     "iopub.status.idle": "2025-03-01T17:45:57.483780Z",
     "shell.execute_reply": "2025-03-01T17:45:57.483166Z",
     "shell.execute_reply.started": "2024-12-04T16:18:43.018898Z"
    },
    "papermill": {
     "duration": 0.099849,
     "end_time": "2025-03-01T17:45:57.483915",
     "exception": false,
     "start_time": "2025-03-01T17:45:57.384066",
     "status": "completed"
    },
    "tags": []
   },
   "outputs": [],
   "source": [
    "def tuning_and_eval(gridcvs, X_train, y_train, X_test, y_test,\n",
    "                    scoring, refit, is_binary_problem,\n",
    "                    result_on_dataset, rank_hparams_info):\n",
    "    assert 'test' in result_on_dataset\n",
    "    assert isinstance(rank_hparams_info, bool)\n",
    "    ###\n",
    "    lst_dct_result = [] # to return\n",
    "    ###\n",
    "\n",
    "    start=datetime.now()\n",
    "    X = {}\n",
    "    y = {}\n",
    "    X['train'] = X_train\n",
    "    X['test'] = X_test\n",
    "    y['train'] = y_train\n",
    "    y['test'] = y_test\n",
    "\n",
    "    for model_name, gs_est in sorted(gridcvs.items()):\n",
    "        ###\n",
    "        sub_result = {}\n",
    "        sub_result['model'] = model_name\n",
    "        ###\n",
    "\n",
    "        start_individual_type_model = datetime.now()\n",
    "        gs_est.fit(X['train'],y['train'])\n",
    "\n",
    "        ###\n",
    "        sub_result['best_params'] = gs_est.best_params_\n",
    "        ###\n",
    "\n",
    "        ###\n",
    "        sub_result[f'best_tuning_{refit}'] = gs_est.best_score_ * 100\n",
    "        sub_result['best_tuning_std'] = gs_est.cv_results_[f'std_test_{refit}'][gs_est.best_index_] * 100\n",
    "        ###\n",
    "\n",
    "        if rank_hparams_info:\n",
    "            select_result_cols = []\n",
    "            for metric in scoring:\n",
    "                select_result_cols.extend(['rank_test_'+metric,'mean_test_'+ metric, 'std_test_'+metric])\n",
    "            select_result_cols.extend(['params'])\n",
    "\n",
    "            dataframe_results = pd.DataFrame(gs_est.cv_results_).loc[:,select_result_cols].sort_values(by=f'mean_test_{refit}',ascending=False)\n",
    "            display(dataframe_results[:10])\n",
    "\n",
    "        for type_data in result_on_dataset:\n",
    "            y_predict = gs_est.predict(X[type_data])\n",
    "\n",
    "            acc = accuracy_score(y_true=y[type_data], y_pred=y_predict)\n",
    "\n",
    "            ###\n",
    "            sub_result[f'{type_data}_acc'] = acc * 100\n",
    "            ###\n",
    "\n",
    "            if is_binary_problem:\n",
    "                f1 = f1_score(y_true=y[type_data], y_pred=y_predict,average='binary')\n",
    "                y_score = gs_est.predict_proba(X[type_data])[:, 1]\n",
    "                roc_auc = roc_auc_score(y_true=y[type_data], y_score=y_score)\n",
    "\n",
    "                ###\n",
    "                sub_result[f'{type_data}_f1'] = f1 * 100\n",
    "                ###\n",
    "\n",
    "                ###\n",
    "                sub_result[f'{type_data}_roc_auc'] = roc_auc * 100\n",
    "                ###\n",
    "            else:\n",
    "                f1_macro = f1_score(y_true=y[type_data], y_pred=y_predict,average='macro')\n",
    "                f1_weighted = f1_score(y_true=y[type_data], y_pred=y_predict,average='weighted')\n",
    "\n",
    "                ###\n",
    "                sub_result[f'{type_data}_f1_macro'] = f1_macro * 100\n",
    "                ###\n",
    "\n",
    "                ###\n",
    "                sub_result[f'{type_data}_f1_weighted'] = f1_weighted * 100\n",
    "                ##\n",
    "\n",
    "            ###\n",
    "            lst_dct_result.append(sub_result)\n",
    "            ###\n",
    "\n",
    "            pd_cfm = pd.crosstab(\n",
    "                y[type_data]\n",
    "                , y_predict\n",
    "                , margins=True\n",
    "                , rownames=['True label']\n",
    "                , colnames=['Pred label']\n",
    "            )\n",
    "            \n",
    "            # Đảm bảo các label thiếu có mặt trong chỉ mục và cột của bảng crosstab\n",
    "            labels = list(ORIGINAL_MAPPING_NAME.values())\n",
    "            pd_cfm = pd_cfm.reindex(index=labels + ['All'], columns=labels + ['All'], fill_value=0)\n",
    "\n",
    "            folder_save_fig = f\"/kaggle/working/cfm/{biomarker_file.split('/')[-1].split('.')[-2]}/{model_name}\"\n",
    "            if not os.path.exists(folder_save_fig):\n",
    "                os.makedirs(folder_save_fig)\n",
    "            path_save_fig = f\"{folder_save_fig}/top{threshold}.png\"\n",
    "            display_classification_report(n_class=len(ORIGINAL_MAPPING_NAME)\n",
    "                                          , label=y[type_data]\n",
    "                                          , pred= y_predict\n",
    "                                          , label_mapping_name=ORIGINAL_MAPPING_NAME.values()\n",
    "                                          , path=path_save_fig\n",
    "                                          , shown=False\n",
    "                                         )\n",
    "    return lst_dct_result"
   ]
  },
  {
   "cell_type": "code",
   "execution_count": 27,
   "id": "favorite-surveillance",
   "metadata": {
    "execution": {
     "iopub.execute_input": "2025-03-01T17:45:57.662889Z",
     "iopub.status.busy": "2025-03-01T17:45:57.662086Z",
     "iopub.status.idle": "2025-03-01T17:45:57.664875Z",
     "shell.execute_reply": "2025-03-01T17:45:57.664257Z",
     "shell.execute_reply.started": "2024-12-04T16:18:43.0459Z"
    },
    "papermill": {
     "duration": 0.099324,
     "end_time": "2025-03-01T17:45:57.665011",
     "exception": false,
     "start_time": "2025-03-01T17:45:57.565687",
     "status": "completed"
    },
    "tags": []
   },
   "outputs": [],
   "source": [
    "def validate_biomarker(dict_X_train, dict_y_train, dict_X_test, dict_y_test,\n",
    "                       omics=['GE_CNA', 'GE','CNA'], random_state = RANDOM_STATE,\n",
    "                       result_on_dataset = ['train','test'], rank_hparams_info = True,\n",
    "                       is_binary_problem=False):\n",
    "    assert 'test' in result_on_dataset\n",
    "    assert isinstance(rank_hparams_info, bool)\n",
    "    ###\n",
    "    validate_biomarker_result = []\n",
    "    ###\n",
    "    scoring = None\n",
    "    refit= None\n",
    "    if is_binary_problem:\n",
    "        scoring = ['f1','accuracy','roc_auc']\n",
    "        refit = 'f1'\n",
    "    else: \n",
    "        scoring = ['f1_macro','f1_weighted', 'accuracy']\n",
    "        refit = 'f1_macro'\n",
    "\n",
    "    # Initializing classifiers\n",
    "    clf1 = LogisticRegression(random_state=random_state, max_iter=10000, n_jobs=-1)\n",
    "\n",
    "    # Binary case, probability = True to cal ROC_AUC, slowdown k-fold....\n",
    "    clf2 = SVC(random_state=random_state, probability=is_binary_problem)\n",
    "\n",
    "    clf3 = RandomForestClassifier(random_state=random_state,n_jobs=-1)\n",
    "\n",
    "    # Building the pipelines\n",
    "    pipe1 = Pipeline([('std', 'passthrough'),\n",
    "                      ('clf1', clf1)])\n",
    "\n",
    "    pipe2 = Pipeline([('std', 'passthrough'),\n",
    "                      ('clf2', clf2)])\n",
    "\n",
    "#     # only apply std to mRNA data/ BY index mRNA| ignore or passthorough not to\n",
    "#     # apply standard scaler to remaining index corresponding to CNA data\n",
    "#     column_trans = ColumnTransformer(\n",
    "#         [('scaler', StandardScaler(),list(range(len(GENE['mRNA']))))]\n",
    "#         ,remainder='passthrough')\n",
    "    # Setting up the parameter grids\n",
    "    param_grid1 = [{\n",
    "                    'std': [MinMaxScaler()],\n",
    "                    'clf1__penalty': ['l2'],\n",
    "                    'clf1__multi_class':[\"multinomial\"],\n",
    "                    'clf1__solver':[\"newton-cg\"],\n",
    "                    'clf1__class_weight': [\"balanced\"],\n",
    "                    'clf1__C': np.power(10., np.arange(-4, 3)),\n",
    "                    }]\n",
    "\n",
    "    param_grid2 = [{\n",
    "                    'std': [MinMaxScaler()],\n",
    "                    'clf2__kernel': ['rbf'],\n",
    "                    'clf2__class_weight': [\"balanced\"],\n",
    "                    'clf2__C': np.power(10., np.arange(-4, 3)),\n",
    "                    'clf2__gamma': list(np.power(10., np.arange(-4, 0))) + ['scale']\n",
    "                    }]\n",
    "\n",
    "    param_grid3 = [{'n_estimators': [50, 100, 150],\n",
    "                    'max_features': [\"sqrt\"],\n",
    "                    'max_depth' : list(range(1, 10)) + [None],\n",
    "                    'criterion' :[\"gini\"],\n",
    "                    'class_weight': [\"balanced\", \"balanced_subsample\"]}]\n",
    "\n",
    "    # Setting up multiple GridSearchCV objects, 1 for each algorithm\n",
    "    gridcvs = {}\n",
    "#     cv = RepeatedStratifiedKFold(n_splits=4, n_repeats=10, random_state=random_state)\n",
    "    cv = RepeatedStratifiedKFold(n_splits=4, n_repeats=5, random_state=random_state)\n",
    "\n",
    "    train_options = zip(\n",
    "                        (param_grid1,\n",
    "                         param_grid2,\n",
    "                         param_grid3,\n",
    "                        ),\n",
    "                        (pipe1,\n",
    "                         pipe2,\n",
    "                         clf3,\n",
    "                        ),\n",
    "                        ('1_Softmax',\n",
    "                         '2_SVM',\n",
    "                         '3_RandomForest',\n",
    "                        )\n",
    "                       )\n",
    "\n",
    "    for pgrid, est, model_name in train_options:\n",
    "        gcv = GridSearchCV(estimator=est,\n",
    "                           param_grid=pgrid,\n",
    "                           scoring=scoring,\n",
    "                           n_jobs=-1,\n",
    "                           cv=cv,\n",
    "                           verbose=0,\n",
    "                           refit=refit)\n",
    "        gridcvs[model_name] = gcv\n",
    "\n",
    "    for omic in omics:\n",
    "#         print('-'*100)\n",
    "#         printmd(f'Validate on {omic} data:\\n', color=\"red\")\n",
    "\n",
    "        X_train = dict_X_train[omic]\n",
    "        y_train = np.array(dict_y_train[omic], dtype=np.int16)\n",
    "#         print('Train dist: ', np.unique(y_train, return_counts=True ))\n",
    "\n",
    "        X_test = dict_X_test[omic]\n",
    "        y_test = np.array(dict_y_test[omic], dtype=np.int16)\n",
    "#         print('Test dist', np.unique(y_test, return_counts=True ),'\\n')\n",
    "\n",
    "        # run tuning and eval\n",
    "        tmp_lst_dct_tuning_result = tuning_and_eval(gridcvs, X_train, y_train, X_test, y_test,\\\n",
    "                        scoring, refit,is_binary_problem,\n",
    "                        result_on_dataset, rank_hparams_info)\n",
    "        ###\n",
    "        tmp_base= {'using_omic': omic}\n",
    "        validate_biomarker_result.extend([copy.deepcopy(tmp_base) for i in range(len(tmp_lst_dct_tuning_result))])\n",
    "        for dct_tmp, dct_val in zip(tmp_lst_dct_tuning_result, validate_biomarker_result):\n",
    "            dct_val.update(dct_tmp)\n",
    "        ###\n",
    "    return validate_biomarker_result"
   ]
  },
  {
   "cell_type": "code",
   "execution_count": 28,
   "id": "controlled-fundamentals",
   "metadata": {
    "execution": {
     "iopub.execute_input": "2025-03-01T17:45:57.843883Z",
     "iopub.status.busy": "2025-03-01T17:45:57.835911Z",
     "iopub.status.idle": "2025-03-01T17:45:57.846593Z",
     "shell.execute_reply": "2025-03-01T17:45:57.845995Z",
     "shell.execute_reply.started": "2024-12-04T16:18:43.081517Z"
    },
    "papermill": {
     "duration": 0.099742,
     "end_time": "2025-03-01T17:45:57.846730",
     "exception": false,
     "start_time": "2025-03-01T17:45:57.746988",
     "status": "completed"
    },
    "tags": []
   },
   "outputs": [],
   "source": [
    "def validate(biomarker_file, threshold):\n",
    "    # init var and para to save the result\n",
    "    ###\n",
    "    validate_result=[]\n",
    "    base_result = {}\n",
    "    ###\n",
    "#     dct_data_structure = {col: [] for col in lst_cols}\n",
    "#     pd_result = pd.DataFrame(columns=lst_cols)\n",
    "\n",
    "    # Read data\n",
    "    dict_df_label = {}\n",
    "    dict_df_data = {}\n",
    "    # Read data as df and create numpy array data for labeled data\n",
    "    for type_data in LIST_TYPE_DATA:\n",
    "        # modified\n",
    "        dict_df_label[type_data] = pd.read_csv(DATA_FOLDER[type_data] + f'labels_{type_data[:2]}.csv', names=['disease_subtypes'])\n",
    "        # ---------------------------------\n",
    "\n",
    "        # added\n",
    "        dict_df_label[type_data]['disease_subtypes'] = dict_df_label[type_data]['disease_subtypes'].astype('int')\n",
    "        dict_df_label[type_data].index.names = ['sampleID']\n",
    "        \n",
    "        dict_df_label[type_data].replace({'disease_subtypes': ORIGINAL_MAPPING_NAME}, inplace=True)\n",
    "        # ---------------------------------\n",
    "        \n",
    "        \n",
    "        dict_df_omics = {}\n",
    "        dict_narray_omics = {}\n",
    "        for omic in LIST_OMICS:\n",
    "            # added\n",
    "            tmp_feat_name = pd.read_csv(DATA_FOLDER[type_data]+ f'{LIST_OMICS.index(omic)+1}_featname.csv', names=['feat_name'])\n",
    "#             tmp_feat_name['feat_name'] = tmp_feat_name['feat_name'].str.split('|').str[0]\n",
    "            lst_name = tmp_feat_name.values.reshape(-1).tolist()\n",
    "            # ---------------------------------\n",
    "\n",
    "            # modified\n",
    "            dict_df_omics[omic] = pd.read_csv(DATA_FOLDER[type_data] + f'{LIST_OMICS.index(omic)+1}_{type_data[:2]}.csv',names=lst_name)\n",
    "            # ---------------------------------\n",
    "\n",
    "        dict_df_data[type_data] = dict_df_omics\n",
    "\n",
    "    LABEL_MAPPING_NAME = dict_df_label['train']['disease_subtypes'].astype('category').cat.categories # sorted by alphabetical order\n",
    "#     print('LABEL_MAPPING_NAME', LABEL_MAPPING_NAME)\n",
    "    \n",
    "    # Convert categorical label to numerical label\n",
    "    for type_data in LIST_TYPE_DATA:\n",
    "        dict_df_label[type_data].loc[:,'disease_subtypes'] = dict_df_label[type_data]['disease_subtypes'].astype('category').cat.codes\n",
    "\n",
    "    #---------------------------------------------------------------------------------------\n",
    "    # Keep only biomarker genes found from TCGA data\n",
    "#     print('-'*100)\n",
    "#     print('KEEP ONLY BIOMARKER GENES FOUND FROM TCGA DATA')\n",
    "    score_genes = pd.read_csv(biomarker_file)\n",
    "    score_genes = score_genes.iloc[:, 0]\n",
    "    top_genes = list(set(score_genes.to_numpy(copy=True).reshape(-1)))\n",
    "#     print(top_genes)\n",
    "    top_genes = [gene.upper() for gene in top_genes]\n",
    "#     print(f'Top {threshold} from TCGA have {len(top_genes)} unique genes/features:')\n",
    "    ###\n",
    "    base_result['n_unq_markers'] = len(top_genes)\n",
    "    base_result['lst_unq_markers'] = top_genes\n",
    "    ###\n",
    "    \n",
    "    GENE = {}\n",
    "    for omic in LIST_OMICS:\n",
    "        GENE[omic] = dict_df_data['train'][omic].columns[\n",
    "#             dict_df_data['train'][omic].columns.str.upper().str.split(r'\\|').str[0].isin(top_genes)\n",
    "            dict_df_data['train'][omic].columns.str.upper().isin(top_genes)\n",
    "        ].to_numpy(copy=True).tolist()\n",
    "\n",
    "#         print(f'\\twith {omic} TOP {threshold}:', len(GENE[omic]))\n",
    "        ###\n",
    "        base_result[f'n_unq_{omic}'] = len(GENE[omic])\n",
    "        base_result[f'lst_unq_{omic}'] = GENE[omic]\n",
    "        ###\n",
    "    # NOTE THAT DNAmythyl and mRNA maybe have same genename in top gene => incresing num features comparing to num unique genes\n",
    "\n",
    "        for type_data in LIST_TYPE_DATA:\n",
    "            dict_df_data[type_data][omic] = dict_df_data[type_data][omic][GENE[omic]].copy(deep=True)\n",
    "    \n",
    "    dict_X = {}\n",
    "    dict_y = {}\n",
    "    for type_data in LIST_TYPE_DATA:\n",
    "        dict_X[type_data] = {}\n",
    "        dict_y[type_data] = {}\n",
    "\n",
    "    for type_omic in LIST_EXP_OMICS:\n",
    "        if '_' in type_omic:\n",
    "#             print(f'Creating data for multi-omics experiment: {type_omic}')\n",
    "            list_omics = type_omic.split('_')\n",
    "            for type_data in LIST_TYPE_DATA:\n",
    "                tuple_data_omics = tuple([dict_df_data[type_data][single_omic] for single_omic in list_omics])\n",
    "                dict_X[type_data][type_omic] = np.concatenate(tuple_data_omics, axis=1)\n",
    "        else:\n",
    "#             print(f'Creating data for single omic experiment: {type_omic}')\n",
    "            for type_data in LIST_TYPE_DATA:\n",
    "                dict_X[type_data][type_omic] = dict_df_data[type_data][type_omic].to_numpy(copy=True)\n",
    "\n",
    "        for type_data in LIST_TYPE_DATA:\n",
    "            dict_y[type_data][type_omic] = dict_df_label[type_data]['disease_subtypes'].to_numpy(copy=True)\n",
    "\n",
    "\n",
    "    #---------------------------------------------------------------------------------------\n",
    "    tmp_lst_dct_validate_biomarker_result = validate_biomarker(dict_X['train'], dict_y['train'], dict_X['test'], dict_y['test'],\n",
    "                       omics=LIST_EXP_OMICS, random_state=RANDOM_STATE,\n",
    "                       result_on_dataset= ['test'], rank_hparams_info =False,\n",
    "                       is_binary_problem = (len(LABEL_MAPPING_NAME)==2))\n",
    "    validate_result.extend([copy.deepcopy(base_result) for i in range(len(tmp_lst_dct_validate_biomarker_result))])\n",
    "    for dct_tmp, dct_val in zip(tmp_lst_dct_validate_biomarker_result, validate_result):\n",
    "        dct_val.update(dct_tmp)\n",
    "    return validate_result"
   ]
  },
  {
   "cell_type": "code",
   "execution_count": 29,
   "id": "fewer-inclusion",
   "metadata": {
    "execution": {
     "iopub.execute_input": "2025-03-01T17:45:58.011890Z",
     "iopub.status.busy": "2025-03-01T17:45:58.011198Z",
     "iopub.status.idle": "2025-03-01T17:45:58.014372Z",
     "shell.execute_reply": "2025-03-01T17:45:58.013937Z",
     "shell.execute_reply.started": "2024-12-04T16:18:43.111479Z"
    },
    "papermill": {
     "duration": 0.087239,
     "end_time": "2025-03-01T17:45:58.014541",
     "exception": false,
     "start_time": "2025-03-01T17:45:57.927302",
     "status": "completed"
    },
    "tags": []
   },
   "outputs": [],
   "source": [
    "# excluded_files = ['mogonet_full_top_biomarkers_sorted_desc_score_5models.csv']\n",
    "# excluded_files = [f'{BIOMARKERS_RESULT_FOLDER}/{COHORT}/'+biomarker_file for biomarker_file in excluded_files]\n",
    "\n",
    "excluded_files = [] # evaluation all candidate biomarkers result"
   ]
  },
  {
   "cell_type": "code",
   "execution_count": 30,
   "id": "official-samba",
   "metadata": {
    "execution": {
     "iopub.execute_input": "2025-03-01T17:45:58.182967Z",
     "iopub.status.busy": "2025-03-01T17:45:58.182312Z",
     "iopub.status.idle": "2025-03-01T17:45:58.185707Z",
     "shell.execute_reply": "2025-03-01T17:45:58.186113Z",
     "shell.execute_reply.started": "2024-12-04T16:18:43.140333Z"
    },
    "papermill": {
     "duration": 0.09088,
     "end_time": "2025-03-01T17:45:58.186272",
     "exception": false,
     "start_time": "2025-03-01T17:45:58.095392",
     "status": "completed"
    },
    "tags": []
   },
   "outputs": [
    {
     "name": "stdout",
     "output_type": "stream",
     "text": [
      "1.2.3\n",
      "0.24.1\n",
      "1.19.5\n"
     ]
    }
   ],
   "source": [
    "print(pd.__version__)\n",
    "print(sklearn.__version__)\n",
    "print(np.__version__)"
   ]
  },
  {
   "cell_type": "code",
   "execution_count": 31,
   "id": "bearing-convergence",
   "metadata": {
    "execution": {
     "iopub.execute_input": "2025-03-01T17:45:58.356775Z",
     "iopub.status.busy": "2025-03-01T17:45:58.355962Z",
     "iopub.status.idle": "2025-03-01T17:50:21.014108Z",
     "shell.execute_reply": "2025-03-01T17:50:21.014589Z",
     "shell.execute_reply.started": "2024-12-04T16:18:43.158499Z"
    },
    "papermill": {
     "duration": 262.747744,
     "end_time": "2025-03-01T17:50:21.014791",
     "exception": false,
     "start_time": "2025-03-01T17:45:58.267047",
     "status": "completed"
    },
    "tags": []
   },
   "outputs": [
    {
     "data": {
      "text/markdown": [
       "<span style='color:green'>SFE</span>"
      ],
      "text/plain": [
       "<IPython.core.display.Markdown object>"
      ]
     },
     "metadata": {},
     "output_type": "display_data"
    },
    {
     "name": "stdout",
     "output_type": "stream",
     "text": [
      "Total Time: 0:04:22.569900\n"
     ]
    }
   ],
   "source": [
    "# # Ignore ConvergenceWarning\n",
    "# warnings.filterwarnings(\"ignore\", category = ConvergenceWarning)\n",
    "\n",
    "##\n",
    "result = []\n",
    "# THRESHOLD_LST = list(range(25, 401, 25))\n",
    "##\n",
    "\n",
    "for biomarker_file in list_loc_biomarkers:\n",
    "    if biomarker_file in excluded_files:\n",
    "        continue\n",
    "#     print(\"*\"*100)\n",
    "    baseline = biomarker_file.split('/')[-1].split('.')[-2]\n",
    "    printmd(baseline,'green')\n",
    "#         print(biomarker_file)\n",
    "\n",
    "    start = datetime.now()\n",
    "#     for threshold in THRESHOLD_LST:\n",
    "        ###\n",
    "    threshold = 'full'\n",
    "    tmp_result = []\n",
    "    base_init_dct_result = {'top': threshold, 'baseline': baseline}\n",
    "    tmp_validate_result = validate(biomarker_file,threshold)\n",
    "    tmp_result.extend([copy.deepcopy(base_init_dct_result) for i in range(len(tmp_validate_result))])\n",
    "    for dct_tmp, dct_val in zip(tmp_validate_result, tmp_result):\n",
    "        dct_val.update(dct_tmp)\n",
    "\n",
    "    result.extend(tmp_result)\n",
    "        \n",
    "    print(f'Total Time: {datetime.now()-start}')\n",
    "        ###\n",
    "#         print(f\"Top {threshold} - Using {tmp_result[0]['n_unq_markers']} uniques biomarkers in totals\")\n",
    "#         print(tmp_result[0]['lst_unq_markers'])\n",
    "#         print('\\n'*2)"
   ]
  },
  {
   "cell_type": "markdown",
   "id": "liable-truck",
   "metadata": {
    "papermill": {
     "duration": 0.080889,
     "end_time": "2025-03-01T17:50:21.178843",
     "exception": false,
     "start_time": "2025-03-01T17:50:21.097954",
     "status": "completed"
    },
    "tags": []
   },
   "source": [
    "# 3.3. Compare all IG baselines and MOGONET"
   ]
  },
  {
   "cell_type": "code",
   "execution_count": 32,
   "id": "isolated-mexican",
   "metadata": {
    "execution": {
     "iopub.execute_input": "2025-03-01T17:50:21.352058Z",
     "iopub.status.busy": "2025-03-01T17:50:21.351047Z",
     "iopub.status.idle": "2025-03-01T17:50:21.353770Z",
     "shell.execute_reply": "2025-03-01T17:50:21.353291Z",
     "shell.execute_reply.started": "2024-12-04T16:22:08.452932Z"
    },
    "papermill": {
     "duration": 0.092208,
     "end_time": "2025-03-01T17:50:21.353895",
     "exception": false,
     "start_time": "2025-03-01T17:50:21.261687",
     "status": "completed"
    },
    "tags": []
   },
   "outputs": [],
   "source": [
    "avg_acc_all_models = {}\n",
    "avg_f1_all_models = {}\n",
    "filtered_results = []\n",
    "\n",
    "for res in result:\n",
    "#         print(res)\n",
    "    model_type = res['top']\n",
    "    baseline_type = res['model']\n",
    "    top_n = \"-\".join(res['baseline'].split('_')[:])\n",
    "    accuracy_t = res['test_acc']\n",
    "    f1_score_t = res.get('test_f1_macro', res.get('test_f1', 0))\n",
    "\n",
    "    filtered_results.append({\n",
    "        'model_type': model_type,\n",
    "        'baseline_type': baseline_type,\n",
    "        'top_n': top_n,\n",
    "        'accuracy_t': accuracy_t,\n",
    "        'f1_score_t': f1_score_t\n",
    "    })\n",
    "    \n",
    "    if model_type not in avg_acc_all_models:\n",
    "        avg_acc_all_models[model_type] = {}\n",
    "        avg_f1_all_models[model_type] = {}\n",
    "\n",
    "    if baseline_type not in avg_acc_all_models[model_type]:\n",
    "        avg_acc_all_models[model_type][baseline_type] = []\n",
    "        avg_f1_all_models[model_type][baseline_type] = []\n",
    "\n",
    "    avg_acc_all_models[model_type][baseline_type].append((top_n, accuracy_t))\n",
    "    avg_f1_all_models[model_type][baseline_type].append((top_n, f1_score_t))\n",
    "        \n",
    "for model_type in avg_acc_all_models:\n",
    "    for baseline_type in avg_acc_all_models[model_type]:\n",
    "        avg_acc_all_models[model_type][baseline_type].sort(key=lambda x: x[0])\n",
    "        avg_f1_all_models[model_type][baseline_type].sort(key=lambda x: x[0])"
   ]
  },
  {
   "cell_type": "code",
   "execution_count": 33,
   "id": "assigned-proxy",
   "metadata": {
    "execution": {
     "iopub.execute_input": "2025-03-01T17:50:21.523472Z",
     "iopub.status.busy": "2025-03-01T17:50:21.522562Z",
     "iopub.status.idle": "2025-03-01T17:50:22.909018Z",
     "shell.execute_reply": "2025-03-01T17:50:22.908583Z",
     "shell.execute_reply.started": "2024-12-04T16:22:08.464502Z"
    },
    "papermill": {
     "duration": 1.475366,
     "end_time": "2025-03-01T17:50:22.909133",
     "exception": false,
     "start_time": "2025-03-01T17:50:21.433767",
     "status": "completed"
    },
    "tags": []
   },
   "outputs": [
    {
     "name": "stdout",
     "output_type": "stream",
     "text": [
      "**************************************** full ****************************************\n"
     ]
    },
    {
     "data": {
      "image/png": "[encoded data removed]",
      "text/plain": [
       "<Figure size 2400x1200 with 1 Axes>"
      ]
     },
     "metadata": {
      "needs_background": "light"
     },
     "output_type": "display_data"
    },
    {
     "data": {
      "image/png": "[encoded data removed]",
      "text/plain": [
       "<Figure size 2400x1200 with 1 Axes>"
      ]
     },
     "metadata": {
      "needs_background": "light"
     },
     "output_type": "display_data"
    },
    {
     "name": "stdout",
     "output_type": "stream",
     "text": [
      "\n",
      "\n",
      "\n"
     ]
    }
   ],
   "source": [
    "def plot_metrics(metrics, metric_name):\n",
    "    folder_save_fig = f\"/kaggle/working/cmp\"\n",
    "    if not os.path.exists(folder_save_fig):\n",
    "        os.makedirs(folder_save_fig)\n",
    "    path_save_fig = f'{folder_save_fig}/{metric_name}.png'\n",
    "    plt.figure(figsize = (8,4), dpi=300)\n",
    "    for baseline_name, values in metrics.items():\n",
    "        top_n_list = [item[0] for item in values]\n",
    "        metric_values = [item[1] for item in values]\n",
    "        plt.plot(top_n_list, metric_values, marker='o', label=baseline_name)\n",
    "    plt.title(f'{metric_name} for different baselines and top N features')\n",
    "    plt.xlabel('Top N features')\n",
    "    plt.ylabel(metric_name)\n",
    "    plt.legend(fontsize='small', bbox_to_anchor=(1.05, 1), loc='upper left')    \n",
    "    plt.xticks(top_n_list)\n",
    "    plt.yticks(list(range(35, 96, 5)))\n",
    "    plt.grid(axis='y')\n",
    "    plt.tight_layout()\n",
    "    plt.savefig(path_save_fig, facecolor='white', edgecolor='white')\n",
    "    plt.show()\n",
    "    \n",
    "# Plot accuracy\n",
    "for model_type in avg_acc_all_models.keys():\n",
    "    print('*' * 40, model_type, '*' * 40)\n",
    "    plot_metrics(avg_acc_all_models[model_type], f'Accuracy for {model_type}')\n",
    "    plot_metrics(avg_f1_all_models[model_type], f'F1 Score for {model_type}')\n",
    "    print('\\n\\n')"
   ]
  },
  {
   "cell_type": "code",
   "execution_count": 34,
   "id": "secure-latter",
   "metadata": {
    "execution": {
     "iopub.execute_input": "2025-03-01T17:50:23.095239Z",
     "iopub.status.busy": "2025-03-01T17:50:23.094570Z",
     "iopub.status.idle": "2025-03-01T17:50:23.097830Z",
     "shell.execute_reply": "2025-03-01T17:50:23.097213Z",
     "shell.execute_reply.started": "2024-12-04T16:22:09.948884Z"
    },
    "papermill": {
     "duration": 0.099359,
     "end_time": "2025-03-01T17:50:23.097964",
     "exception": false,
     "start_time": "2025-03-01T17:50:22.998605",
     "status": "completed"
    },
    "tags": []
   },
   "outputs": [],
   "source": [
    "# Convenient for modifying plot\n",
    "json_file = \"/kaggle/working/results.json\"\n",
    "\n",
    "with open(json_file, mode='w', encoding='utf-8') as file:\n",
    "    json.dump(filtered_results, file, ensure_ascii=False, indent=4)"
   ]
  }
 ],
 "metadata": {
  "kaggle": {
   "accelerator": "none",
   "dataSources": [
    {
     "datasetId": 4741449,
     "sourceId": 8047044,
     "sourceType": "datasetVersion"
    },
    {
     "datasetId": 5346803,
     "sourceId": 9060260,
     "sourceType": "datasetVersion"
    },
    {
     "datasetId": 5513217,
     "sourceId": 9131212,
     "sourceType": "datasetVersion"
    },
    {
     "datasetId": 5669996,
     "sourceId": 9353386,
     "sourceType": "datasetVersion"
    },
    {
     "datasetId": 5762188,
     "sourceId": 9474629,
     "sourceType": "datasetVersion"
    },
    {
     "datasetId": 5211395,
     "sourceId": 10408010,
     "sourceType": "datasetVersion"
    },
    {
     "sourceId": 190749083,
     "sourceType": "kernelVersion"
    }
   ],
   "dockerImageVersionId": 30096,
   "isGpuEnabled": false,
   "isInternetEnabled": true,
   "language": "python",
   "sourceType": "notebook"
  },
  "kernelspec": {
   "display_name": "Python 3",
   "language": "python",
   "name": "python3"
  },
  "language_info": {
   "codemirror_mode": {
    "name": "ipython",
    "version": 3
   },
   "file_extension": ".py",
   "mimetype": "text/x-python",
   "name": "python",
   "nbconvert_exporter": "python",
   "pygments_lexer": "ipython3",
   "version": "3.7.10"
  },
  "papermill": {
   "default_parameters": {},
   "duration": 7560.412905,
   "end_time": "2025-03-01T17:50:25.024458",
   "environment_variables": {},
   "exception": null,
   "input_path": "__notebook__.ipynb",
   "output_path": "__notebook__.ipynb",
   "parameters": {},
   "start_time": "2025-03-01T15:44:24.611553",
   "version": "2.3.3"
  }
 },
 "nbformat": 4,
 "nbformat_minor": 5
}
